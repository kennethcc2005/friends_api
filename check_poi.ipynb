{
 "cells": [
  {
   "cell_type": "code",
   "execution_count": 17,
   "metadata": {
    "collapsed": false
   },
   "outputs": [],
   "source": [
    "import outside_helpers\n",
    "import numpy as np\n",
    "import outside_helpers\n",
    "import psycopg2\n",
    "import os\n",
    "import json\n",
    "import ast\n",
    "from sklearn.cluster import KMeans\n",
    "from django.utils import timezone\n",
    "import math\n",
    "current_path= os.getcwd()\n",
    "with open(current_path + '/api_key_list.config') as key_file:\n",
    "    api_key_list = json.load(key_file)\n",
    "api_key = api_key_list[\"distance_api_key_list\"]\n",
    "conn_str = api_key_list[\"conn_str\"]"
   ]
  },
  {
   "cell_type": "code",
   "execution_count": 82,
   "metadata": {
    "collapsed": true
   },
   "outputs": [],
   "source": [
    "def travel_outside_with_direction(origin_city, origin_state, target_direction, trip_len):\n",
    "    poi_info = []\n",
    "    conn = psycopg2.connect(conn_str)\n",
    "    cur = conn.cursor()\n",
    "    #coord_long, coord_lat\n",
    "    cur.execute(\"SELECT index, coord_lat, coord_long FROM all_cities_coords_table WHERE city ='%s' AND state = '%s';\" % (origin_city, origin_state))\n",
    "    id_, start_lat, start_long = cur.fetchone()\n",
    "\n",
    "    cur.execute(\"SELECT index, coord_lat, coord_long, adjusted_visit_length, ranking, review_score, num_reviews FROM poi_detail_table WHERE NOT (city = '%s' AND state = '%s') AND interesting = True AND ST_Distance_Sphere(geom, ST_MakePoint(%s,%s)) <= %s * 1609.34;\" % (origin_city, origin_state, start_long, start_lat, trip_len))\n",
    "    details = cur.fetchall()\n",
    "    conn.close()\n",
    "    for detail in details:\n",
    "        if check_direction(start_lat, start_long, detail[1], detail[2], target_direction):\n",
    "            poi_info.append(detail)\n",
    "    return id_, start_lat, start_long, np.array(poi_info)\n",
    "\n",
    "\n",
    "def check_direction(start_lat, start_long, outside_lat, outside_long, target_direction):\n",
    "    angle_dict={\"E\": range(45, 135), \"S\": range(135, 215), \"W\": range(215, 305), \"N\": range(0, 45) + range(305, 360)}\n",
    "    angle = calculate_initial_compass_bearing((start_lat, start_long), (outside_lat, outside_long))\n",
    "\n",
    "    if int(angle) in angle_dict[target_direction]:\n",
    "        return True\n",
    "    else:\n",
    "        return False\n",
    "\n",
    "def calculate_initial_compass_bearing(pointA, pointB):\n",
    "    \"\"\"\n",
    "    Calculates the bearing between two points.\n",
    "    The formulae used is the following:\n",
    "    theta = atan2(sin(delta(long)).cos(lat2),\n",
    "                  cos(lat1).sin(lat2) − sin(lat1).cos(lat2).cos(delta(long)))\n",
    "    :Parameters:\n",
    "      - `pointA: The tuple representing the latitude/longitude for the\n",
    "        first point. Latitude AND longitude must be in decimal degrees\n",
    "      - `pointB: The tuple representing the latitude/longitude for the\n",
    "        second point. Latitude AND longitude must be in decimal degrees\n",
    "    :Returns:\n",
    "      The bearing in degrees\n",
    "    :Returns Type:\n",
    "      float\n",
    "    \"\"\"\n",
    "    if (type(pointA) != tuple) or (type(pointB) != tuple):\n",
    "        raise TypeError(\"Only tuples are supported as arguments\")\n",
    "\n",
    "    lat1 = math.radians(pointA[0])\n",
    "    lat2 = math.radians(pointB[0])\n",
    "\n",
    "    diffLong = math.radians(pointB[1] - pointA[1])\n",
    "\n",
    "    x = math.sin(diffLong) * math.cos(lat2)\n",
    "    y = math.cos(lat1) * math.sin(lat2) - (math.sin(lat1) * math.cos(lat2) * math.cos(diffLong))\n",
    "\n",
    "    initial_bearing = math.atan2(x, y)\n",
    "\n",
    "    # Now we have the initial bearing but math.atan2 return values\n",
    "    # FROM -180° to + 180° which is not what we want for a compass bearing\n",
    "    # The solution is to normalize the initial bearing as shown below\n",
    "    initial_bearing = math.degrees(initial_bearing)\n",
    "    compass_bearing = (initial_bearing + 360) % 360\n",
    "\n",
    "    return compass_bearing\n",
    "\n",
    "def create_outside_event_id_list(big_, medium_, small_):\n",
    "    # print big_,medium_,small_\n",
    "    event_type = ''\n",
    "    if big_.shape[0] >= 1:\n",
    "        if (medium_.shape[0] < 2) or (big_[0,3] >= medium_[0, 3]):\n",
    "            if small_.shape[0] >= 6:\n",
    "                event_ids = list(np.concatenate((big_[:1, 0], small_[0:6, 0]), axis=0))\n",
    "            elif small_.shape[0] > 0:\n",
    "                event_ids = list(np.concatenate((big_[:1, 0], small_[:, 0]), axis=0))\n",
    "            else:\n",
    "                event_ids = list(np.array(sorted(big_[0:, :], key=lambda x: (-x[1], x[2])))[:, 0])\n",
    "            event_type = 'big'\n",
    "        else:\n",
    "            if small_.shape[0] >= 8:\n",
    "                event_ids = list(np.concatenate((medium_[0:2, 0], small_[0:8,0]), axis=0))\n",
    "            elif small_.shape[0] > 0:\n",
    "                event_ids = list(np.concatenate((medium_[0:2, 0], small_[:,0]), axis=0))\n",
    "            else:\n",
    "                event_ids = list(np.array(sorted(medium_[0:, :], key=lambda x: (-x[1], x[2])))[:, 0])\n",
    "            event_type = 'med'\n",
    "    elif medium_.shape[0] >= 2:\n",
    "        if small_.shape[0] >= 8:\n",
    "            event_ids = list(np.concatenate((medium_[0:2, 0], small_[0:8, 0]), axis=0))\n",
    "        elif small_.shape[0] > 0:\n",
    "            event_ids = list(np.concatenate((medium_[0:2, 0], small_[:, 0]), axis=0))\n",
    "        else:\n",
    "            event_ids = list(np.array(sorted(medium_[0:, :], key=lambda x: (-x[1], x[2])))[:, 0])\n",
    "        event_type = 'med'\n",
    "    else:\n",
    "        if small_.shape[0] >= 10:\n",
    "            if medium_.shape[0] == 0:\n",
    "                event_ids = list(np.array(sorted(small_[0:10, :], key=lambda x: (-x[1], x[2])))[:, 0])\n",
    "            else:\n",
    "                event_ids = list(np.array(sorted(np.vstack((medium_[:1, :], small_[0:10, :])), key=lambda x: (-x[1], x[2])))[:, 0])\n",
    "        elif small_.shape[0] > 0:\n",
    "            if medium_.shape[0] == 0:\n",
    "                event_ids = list(np.array(sorted(small_[0:, :], key=lambda x: (-x[1], x[2])))[:, 0])\n",
    "            else:\n",
    "                event_ids = list(np.array(sorted(np.vstack((medium_, small_)), key=lambda x: (-x[1], x[2])))[:, 0])\n",
    "        else:\n",
    "            event_ids = list(np.array(sorted(medium_[0:, :], key=lambda x: (x[1], -x[2])))[:, 0])\n",
    "        event_type = 'small'\n",
    "    return event_ids, event_type"
   ]
  },
  {
   "cell_type": "code",
   "execution_count": 89,
   "metadata": {
    "collapsed": true
   },
   "outputs": [],
   "source": [
    "def assign_theme(details):\n",
    "    theme_list_dict = {\n",
    "    \"family\": [\"Park\", \"Zoo\", \"Game\"],\n",
    "    \"lifestyle\": [\"Nightlife\", \"Shopping\", \"Theater\", \"Food\", \"Spa\", \"Casino\", \"Show\", \"ShoppingMall\"],\n",
    "    \"nature\": [\"StatePark\", \"NationalWildlifeRefuge\", \"NationalHistoricalPark\", \"NationalForest\", \"NationalMonument\", \"NationalMemorial\"],\n",
    "    \"cultural\": [\"Landmark\", \"Museum\", \"OutdoorActivities\", \"Library\", \"Stadium\"],\n",
    "    \"theme_park\": [\"ThemePark\"],\n",
    "    \"national_park\": [\"NationalPark\"],\n",
    "    \"other_list\": [\"Other\", \"VisotorCenter\", \"Transportation\", \"Tour\", \"Unuse_theater\", \"Unuse_transportation\"]\n",
    "    }\n",
    "\n",
    "    assign_dict = {\"family\" : 0,\"lifestyle\": 0,\"nature\": 0,\"cultural\": 0,\"theme_park\": 0,\"national_park\": 0,\"other_list\": 0}\n",
    "\n",
    "    assign_dict2 = {\"family\" : 0, \"lifestyle\": 0, \"nature\": 0, \"cultural\": 0, \"theme_park\": 0, \"national_park\": 0, \"other_list\": 0}\n",
    "\n",
    "    assign_dict3 = {\"family\" : -1, \"lifestyle\": -1, \"nature\": -1, \"cultural\": -1, \"theme_park\": -1, \"national_park\": -1, \"other_list\": -1}\n",
    "\n",
    "    assign_dict4 = {\"family\" : [], \"lifestyle\": [], \"nature\": [], \"cultural\": [], \"theme_park\": [], \"national_park\": [], \"other_list\": []}\n",
    "\n",
    "    #create a list for each poi\n",
    "    all_type = []\n",
    "    for i in details:\n",
    "        all_type.append([i[\"poi_type\"], i[\"adjusted_visit_length\"], i[\"num_reviews\"], i[\"ranking\"], i[\"review_score\"]])\n",
    "\n",
    "    for i in all_type:\n",
    "        for key, value in theme_list_dict.iteritems():\n",
    "            if i[0] in value: #locate the theme \n",
    "                assign_dict[key] += int(i[1]) #total time of theme\n",
    "                assign_dict2[key] += int(i[2]) #total # of review of theme\n",
    "                if assign_dict3[key] < 0:\n",
    "                    assign_dict3[key] = int(i[3])\n",
    "                else:\n",
    "                    assign_dict3[key] = min(assign_dict3[key], int(i[3]))\n",
    "\n",
    "                assign_dict4[key].append(float(i[4]))\n",
    "\n",
    "\n",
    "    assign_dict = sort_dict(assign_dict) #order descending  by time\n",
    "\n",
    "    # theme1 = assign_dict[0][1]\n",
    "    # theme2 = assign_dict[1][1]\n",
    "    # num_reviews = assign_dict2\n",
    "    # ranking = assign_dict3\n",
    "    if assign_dict[0][0] == assign_dict[1][0]: #check if the total time is same \n",
    "        if assign_dict2[assign_dict[0][1]] > assign_dict2[assign_dict[1][1]]:  #check number of review\n",
    "            return [assign_dict[0][1], assign_dict2[assign_dict[0][1]], assign_dict3[assign_dict[0][1]], avg_list(assign_dict4[assign_dict[0][1]])]\n",
    "        elif assign_dict2[assign_dict[0][1]] < assign_dict2[assign_dict[1][1]]:\n",
    "            return [assign_dict[1][1], assign_dict2[assign_dict[1][1]], assign_dict3[assign_dict[1][1]], avg_list(assign_dict4[assign_dict[1][1]])]\n",
    "        elif assign_dict3[assign_dict[0][1]] < assign_dict3[assign_dict[1][1]]: #check for ranking\n",
    "            return [assign_dict[0][1], assign_dict2[assign_dict[0][1]], assign_dict3[assign_dict[0][1]], avg_list(assign_dict4[assign_dict[0][1]])]\n",
    "        elif assign_dict3[assign_dict[0][1]] > assign_dict3[assign_dict[1][1]]:\n",
    "            return [assign_dict[1][1], assign_dict2[assign_dict[1][1]], assign_dict3[assign_dict[1][1]], avg_list(assign_dict4[assign_dict[1][1]])]\n",
    "\n",
    "    #return [theme, num of review, ranking, review_score]\n",
    "\n",
    "    return [assign_dict[0][1], assign_dict2[assign_dict[0][1]], assign_dict3[assign_dict[0][1]], avg_list(assign_dict4[assign_dict[0][1]])]\n",
    "\n",
    "def sort_dict(input_dict):\n",
    "    temp_dict = [(input_dict[key], key) for key in input_dict]\n",
    "    temp_dict.sort(reverse=True)\n",
    "    return temp_dict\n",
    "\n",
    "def avg_list(l):\n",
    "    #for finding avg of review socre\n",
    "    if len(l) != 0:\n",
    "        return sum(l) / len(l)\n",
    "    else:\n",
    "        return 0"
   ]
  },
  {
   "cell_type": "code",
   "execution_count": 75,
   "metadata": {
    "collapsed": true
   },
   "outputs": [],
   "source": [
    "def outside_trip_poi(origin_city, origin_state, target_direction='N', n_days =1, full_day=True, regular=True, debug=True, username_id=1):\n",
    "    outside_trip_id = '-'.join([str(origin_state.upper().replace(' ', '-')), str(origin_city.upper().replace(' ', '-')), target_direction,str(int(regular)), str(n_days)])\n",
    "    origin_state = outside_helpers.check_state(origin_state)\n",
    "\n",
    "    furthest_len = 100\n",
    "    city_id, coord_lat, coord_long, city_infos = travel_outside_with_direction(origin_city, origin_state, 'N', 100)\n",
    "#     if len(city_infos) <= 0:\n",
    "#         conn = psycopg2.connect(conn_str)\n",
    "#         cur = conn.cursor()\n",
    "#         cur.execute('SELECT MAX(index) from outside_trip_table;')\n",
    "#         new_index = cur.fetchone()[0] + 1\n",
    "#         cur.execute(\"INSERT into outside_trip_table(index, username_id, outside_trip_id, outside_route_ids, event_id_lst, origin_city, origin_state, target_direction, n_routes, regular, full_day, outside_trip_details) VALUES (%s, %s, %s, %s, %s, %s, %s, %s, %s, %s, %s, %s);\", (new_index, username_id, outside_trip_id, '[]', '[]', origin_city, origin_state, target_direction, 0, regular, full_day, '[]'))\n",
    "#         conn.commit()\n",
    "#         conn.close()\n",
    "#         print \"finish update None for %s, %s, direction %s into database\" % (origin_state, origin_city, target_direction)\n",
    "#         return outside_trip_id, [], []\n",
    "    poi_coords = city_infos[:, 1:3]\n",
    "    return city_id, coord_lat, coord_long, city_infos"
   ]
  },
  {
   "cell_type": "code",
   "execution_count": 46,
   "metadata": {
    "collapsed": true
   },
   "outputs": [],
   "source": [
    "origin_city, origin_state= 'San Francisco', 'California'"
   ]
  },
  {
   "cell_type": "code",
   "execution_count": 76,
   "metadata": {
    "collapsed": false
   },
   "outputs": [],
   "source": [
    "city_id, coord_lat, coord_long, city_infos = outside_trip_poi(origin_city, origin_state)"
   ]
  },
  {
   "cell_type": "code",
   "execution_count": 64,
   "metadata": {
    "collapsed": false
   },
   "outputs": [
    {
     "data": {
      "text/plain": [
       "142.28919860627178"
      ]
     },
     "execution_count": 64,
     "metadata": {},
     "output_type": "execute_result"
    }
   ],
   "source": [
    "import scipy.stats as scs\n",
    "scs.describe(poi_details[:,6]).mean"
   ]
  },
  {
   "cell_type": "code",
   "execution_count": 80,
   "metadata": {
    "collapsed": false
   },
   "outputs": [
    {
     "data": {
      "text/plain": [
       "array([ 927.       ,   38.5809738, -121.500259 ,  360.       ,\n",
       "         26.       ,    4.       ,   49.       ])"
      ]
     },
     "execution_count": 80,
     "metadata": {},
     "output_type": "execute_result"
    }
   ],
   "source": [
    "poi_details[0]"
   ]
  },
  {
   "cell_type": "code",
   "execution_count": 68,
   "metadata": {
    "collapsed": false
   },
   "outputs": [],
   "source": [
    "n_routes = sum(1 for t in poi_details[:, 3] if t >= 120) / 10\n",
    "n_routes = sum(1 for t in poi_details[:, 6] if t >= 142.3) / 5"
   ]
  },
  {
   "cell_type": "code",
   "execution_count": 69,
   "metadata": {
    "collapsed": false
   },
   "outputs": [],
   "source": [
    "kmeans = KMeans(n_clusters=n_routes).fit(poi_details[:,1:3])"
   ]
  },
  {
   "cell_type": "code",
   "execution_count": 71,
   "metadata": {
    "collapsed": false
   },
   "outputs": [],
   "source": [
    "route_labels = kmeans.labels_\n",
    "outside_route_ids_list, outside_trip_details, details_theme, event_id_list =[], [], [], []\n",
    "        "
   ]
  },
  {
   "cell_type": "code",
   "execution_count": 83,
   "metadata": {
    "collapsed": false
   },
   "outputs": [
    {
     "name": "stdout",
     "output_type": "stream",
     "text": [
      "0 [{'ranking': 14L, 'poi_type': 'Park', 'name': 'William Land Park', 'city': 'Sacramento', 'icon_url': 'https://s3.amazonaws.com/travel-with-friends/icon_img_file/icon_915.jpg', 'route': 0, 'img_url': 'https://s3.amazonaws.com/travel-with-friends/img_file/915.jpg', 'num_reviews': 125.0, 'state': 'California', 'coord_lat': 38.5361097, 'coord_long': -121.4985399, 'address': '1702 Sutterville Road, Sacramento, California, 95822, United States', 'check_full_address': 1L, 'adjusted_visit_length': 60.0, 'id': 915L, 'review_score': 4.5}, {'ranking': 9L, 'poi_type': 'Park', 'name': 'Sutter\\xe2\\x80\\x99s Fort State Historic Park', 'city': 'Sacramento', 'icon_url': 'https://s3.amazonaws.com/travel-with-friends/icon_img_file/icon_910.jpg', 'route': 0, 'img_url': 'https://s3.amazonaws.com/travel-with-friends/img_file/910.jpg', 'num_reviews': 401.0, 'state': 'California', 'coord_lat': 38.5723062, 'coord_long': -121.4711749, 'address': '2701 L St, Sacramento, California, 95816, United States', 'check_full_address': 1L, 'adjusted_visit_length': 60.0, 'id': 910L, 'review_score': 4.0}, {'ranking': 13L, 'poi_type': 'Park', 'name': 'American River Parkway', 'city': 'Sacramento', 'icon_url': 'https://s3.amazonaws.com/travel-with-friends/icon_img_file/icon_914.jpg', 'route': 0, 'img_url': 'https://s3.amazonaws.com/travel-with-friends/img_file/914.jpg', 'num_reviews': 128.0, 'state': 'California', 'coord_lat': 38.5927232, 'coord_long': -121.4599012, 'address': 'Discovery Park to Hazel Avenue, Sacramento, California, 95825, United States', 'check_full_address': 1L, 'adjusted_visit_length': 60.0, 'id': 914L, 'review_score': 4.5}, {'ranking': 5L, 'poi_type': 'Park', 'name': 'Capitol Park', 'city': 'Sacramento', 'icon_url': 'https://s3.amazonaws.com/travel-with-friends/icon_img_file/icon_906.jpg', 'route': 0, 'img_url': 'https://s3.amazonaws.com/travel-with-friends/img_file/906.jpg', 'num_reviews': 342.0, 'state': 'California', 'coord_lat': 38.5824933, 'coord_long': -121.4941738, 'address': 'Sacramento, California, 95814, United States', 'check_full_address': 0L, 'adjusted_visit_length': 60.0, 'id': 906L, 'review_score': 4.5}, {'ranking': 4L, 'poi_type': 'Park', 'name': 'American River Bicycle Trail', 'city': 'Sacramento', 'icon_url': 'https://s3.amazonaws.com/travel-with-friends/icon_img_file/icon_905.jpg', 'route': 0, 'img_url': 'https://s3.amazonaws.com/travel-with-friends/img_file/905.jpg', 'num_reviews': 450.0, 'state': 'California', 'coord_lat': 38.5815719, 'coord_long': -121.4943996, 'address': 'Sacramento, California, United States', 'check_full_address': 0L, 'adjusted_visit_length': 60.0, 'id': 905L, 'review_score': 4.5}, {'ranking': 7L, 'poi_type': 'Landmark', 'name': 'Cathedral of the Blessed Sacrament', 'city': 'Sacramento', 'icon_url': 'https://s3.amazonaws.com/travel-with-friends/icon_img_file/icon_908.jpg', 'route': 0, 'img_url': 'https://s3.amazonaws.com/travel-with-friends/img_file/908.jpg', 'num_reviews': 208.0, 'state': 'California', 'coord_lat': 38.57912, 'coord_long': -121.4924218, 'address': '1017 11th Street, Sacramento, California, 95814, United States', 'check_full_address': 1L, 'adjusted_visit_length': 30.0, 'id': 908L, 'review_score': 4.5}, {'ranking': 11L, 'poi_type': 'Landmark', 'name': 'Leland Stanford Mansion State Historic Park', 'city': 'Sacramento', 'icon_url': 'https://s3.amazonaws.com/travel-with-friends/icon_img_file/icon_912.jpg', 'route': 0, 'img_url': 'https://s3.amazonaws.com/travel-with-friends/img_file/912.jpg', 'num_reviews': 169.0, 'state': 'California', 'coord_lat': 38.5765725, 'coord_long': -121.4980548, 'address': \"cnr of 8th and 'N' Sts, Sacramento, California, United States\", 'check_full_address': 0L, 'adjusted_visit_length': 30.0, 'id': 912L, 'review_score': 4.5}]\n",
      "1 [{'ranking': 1L, 'poi_type': 'StatePark', 'name': 'Jack London State Historic Park', 'city': 'Glen Ellen', 'icon_url': 'https://s3.amazonaws.com/travel-with-friends/icon_img_file/icon_14468.jpg', 'route': 1, 'img_url': 'https://s3.amazonaws.com/travel-with-friends/img_file/14468.jpg', 'num_reviews': 345.0, 'state': 'California', 'coord_lat': 38.3566642, 'coord_long': -122.5409002, 'address': '2400 London Ranch Rd, Glen Ellen, California, 95442, United States', 'check_full_address': 1L, 'adjusted_visit_length': 60.0, 'id': 14468L, 'review_score': 4.5}, {'ranking': 1L, 'poi_type': 'Food', 'name': 'Pride Mountain Vineyards', 'city': 'St. Helena', 'icon_url': 'https://s3.amazonaws.com/travel-with-friends/icon_img_file/icon_7441.jpg', 'route': 1, 'img_url': 'https://s3.amazonaws.com/travel-with-friends/img_file/7441.jpg', 'num_reviews': 448.0, 'state': 'California', 'coord_lat': 38.5273618, 'coord_long': -122.5535175, 'address': '4026 Spring Mountain Rd, St. Helena, California, 94574, United States', 'check_full_address': 1L, 'adjusted_visit_length': 60.0, 'id': 7441L, 'review_score': 5.0}, {'ranking': 4L, 'poi_type': 'Food', 'name': 'Chateau Montelena', 'city': 'Calistoga', 'icon_url': 'https://s3.amazonaws.com/travel-with-friends/icon_img_file/icon_7457.jpg', 'route': 1, 'img_url': 'https://s3.amazonaws.com/travel-with-friends/img_file/7457.jpg', 'num_reviews': 464.0, 'state': 'California', 'coord_lat': 38.6034975, 'coord_long': -122.5973582, 'address': '1429 Tubbs Ln, Calistoga, California, 94515, United States', 'check_full_address': 1L, 'adjusted_visit_length': 60.0, 'id': 7457L, 'review_score': 4.5}, {'ranking': 3L, 'poi_type': 'Landmark', 'name': 'Sterling Vineyards', 'city': 'Calistoga', 'icon_url': 'https://s3.amazonaws.com/travel-with-friends/icon_img_file/icon_7452.jpg', 'route': 1, 'img_url': 'https://s3.amazonaws.com/travel-with-friends/img_file/7452.jpg', 'num_reviews': 1244.0, 'state': 'California', 'coord_lat': 38.5672626, 'coord_long': -122.5549095, 'address': '1111 Dunaweal Lane between Highway 29 and Silverado Trail, Calistoga, California, United States', 'check_full_address': 0L, 'adjusted_visit_length': 30.0, 'id': 7452L, 'review_score': 4.0}, {'ranking': 1L, 'poi_type': 'Landmark', 'name': 'Castello di Amorosa', 'city': 'Calistoga', 'icon_url': 'https://s3.amazonaws.com/travel-with-friends/icon_img_file/icon_7444.jpg', 'route': 1, 'img_url': 'https://s3.amazonaws.com/travel-with-friends/img_file/7444.jpg', 'num_reviews': 3712.0, 'state': 'California', 'coord_lat': 38.5596251, 'coord_long': -122.5371653, 'address': '4045 Saint Helena Hwy, Calistoga, California, 94515, United States', 'check_full_address': 1L, 'adjusted_visit_length': 120.0, 'id': 7444L, 'review_score': 4.5}]\n"
     ]
    }
   ],
   "source": [
    "n_routes = 2\n",
    "city_infos = poi_details\n",
    "for i in range(n_routes):\n",
    "    current_events, big_ix, med_ix, small_ix = [], [], [], []\n",
    "    for ix, label in enumerate(route_labels):\n",
    "        if label == i:\n",
    "            time = city_infos[ix, 3]\n",
    "            event_ix = city_infos[ix, 0]\n",
    "            current_events.append(event_ix)\n",
    "            if time > 180:\n",
    "                big_ix.append(ix)\n",
    "            elif time >= 120:\n",
    "                med_ix.append(ix)\n",
    "            else:\n",
    "                small_ix.append(ix)\n",
    "\n",
    "    big_ = outside_helpers.sorted_outside_events(city_infos, big_ix)\n",
    "    med_ = outside_helpers.sorted_outside_events(city_infos, med_ix)\n",
    "    small_ = outside_helpers.sorted_outside_events(city_infos, small_ix)\n",
    "#     print 'big, med, sm', big_, med_\n",
    "    event_ids, event_type = create_outside_event_id_list(big_, med_, small_)\n",
    "    event_ids, event_type = outside_helpers.db_outside_event_cloest_distance(coord_lat, coord_long, event_ids=event_ids, event_type=event_type)\n",
    "    event_ids, google_ids, name_list, driving_time_list, walking_time_list = outside_helpers.db_outside_google_driving_walking_time(city_id, coord_lat, coord_long, event_ids, event_type, origin_city=origin_city, origin_state=origin_state)\n",
    "    event_ids, driving_time_list, walking_time_list, total_time_spent = outside_helpers.db_remove_outside_extra_events(event_ids, driving_time_list, walking_time_list)\n",
    "#     outside_route_id = outside_trip_id + '-' + str(i)\n",
    "\n",
    "#     if outside_helpers.check_outside_route_id(outside_route_id):\n",
    "#         conn = psycopg2.connect(conn_str)\n",
    "#         cur = conn.cursor()\n",
    "#         cur.execute(\"DELETE FROM outside_route_table WHERE outside_route_id = '%s';\" % (outside_route_id))\n",
    "#         conn.commit()\n",
    "#         conn.close()\n",
    "    details = outside_helpers.db_outside_route_trip_details(event_ids, i)\n",
    "    print i, details"
   ]
  },
  {
   "cell_type": "code",
   "execution_count": 92,
   "metadata": {
    "collapsed": false
   },
   "outputs": [
    {
     "name": "stdout",
     "output_type": "stream",
     "text": [
      "StatePark\n",
      "Food\n",
      "Food\n",
      "Landmark\n",
      "Landmark\n"
     ]
    }
   ],
   "source": [
    "for detail in details:\n",
    "    print detail['poi_type']"
   ]
  },
  {
   "cell_type": "code",
   "execution_count": 93,
   "metadata": {
    "collapsed": false
   },
   "outputs": [
    {
     "data": {
      "text/plain": [
       "[{'address': '2400 London Ranch Rd, Glen Ellen, California, 95442, United States',\n",
       "  'adjusted_visit_length': 60.0,\n",
       "  'check_full_address': 1L,\n",
       "  'city': 'Glen Ellen',\n",
       "  'coord_lat': 38.3566642,\n",
       "  'coord_long': -122.5409002,\n",
       "  'icon_url': 'https://s3.amazonaws.com/travel-with-friends/icon_img_file/icon_14468.jpg',\n",
       "  'id': 14468L,\n",
       "  'img_url': 'https://s3.amazonaws.com/travel-with-friends/img_file/14468.jpg',\n",
       "  'name': 'Jack London State Historic Park',\n",
       "  'num_reviews': 345.0,\n",
       "  'poi_type': 'StatePark',\n",
       "  'ranking': 1L,\n",
       "  'review_score': 4.5,\n",
       "  'route': 1,\n",
       "  'state': 'California'},\n",
       " {'address': '4026 Spring Mountain Rd, St. Helena, California, 94574, United States',\n",
       "  'adjusted_visit_length': 60.0,\n",
       "  'check_full_address': 1L,\n",
       "  'city': 'St. Helena',\n",
       "  'coord_lat': 38.5273618,\n",
       "  'coord_long': -122.5535175,\n",
       "  'icon_url': 'https://s3.amazonaws.com/travel-with-friends/icon_img_file/icon_7441.jpg',\n",
       "  'id': 7441L,\n",
       "  'img_url': 'https://s3.amazonaws.com/travel-with-friends/img_file/7441.jpg',\n",
       "  'name': 'Pride Mountain Vineyards',\n",
       "  'num_reviews': 448.0,\n",
       "  'poi_type': 'Food',\n",
       "  'ranking': 1L,\n",
       "  'review_score': 5.0,\n",
       "  'route': 1,\n",
       "  'state': 'California'},\n",
       " {'address': '1429 Tubbs Ln, Calistoga, California, 94515, United States',\n",
       "  'adjusted_visit_length': 60.0,\n",
       "  'check_full_address': 1L,\n",
       "  'city': 'Calistoga',\n",
       "  'coord_lat': 38.6034975,\n",
       "  'coord_long': -122.5973582,\n",
       "  'icon_url': 'https://s3.amazonaws.com/travel-with-friends/icon_img_file/icon_7457.jpg',\n",
       "  'id': 7457L,\n",
       "  'img_url': 'https://s3.amazonaws.com/travel-with-friends/img_file/7457.jpg',\n",
       "  'name': 'Chateau Montelena',\n",
       "  'num_reviews': 464.0,\n",
       "  'poi_type': 'Food',\n",
       "  'ranking': 4L,\n",
       "  'review_score': 4.5,\n",
       "  'route': 1,\n",
       "  'state': 'California'},\n",
       " {'address': '1111 Dunaweal Lane between Highway 29 and Silverado Trail, Calistoga, California, United States',\n",
       "  'adjusted_visit_length': 30.0,\n",
       "  'check_full_address': 0L,\n",
       "  'city': 'Calistoga',\n",
       "  'coord_lat': 38.5672626,\n",
       "  'coord_long': -122.5549095,\n",
       "  'icon_url': 'https://s3.amazonaws.com/travel-with-friends/icon_img_file/icon_7452.jpg',\n",
       "  'id': 7452L,\n",
       "  'img_url': 'https://s3.amazonaws.com/travel-with-friends/img_file/7452.jpg',\n",
       "  'name': 'Sterling Vineyards',\n",
       "  'num_reviews': 1244.0,\n",
       "  'poi_type': 'Landmark',\n",
       "  'ranking': 3L,\n",
       "  'review_score': 4.0,\n",
       "  'route': 1,\n",
       "  'state': 'California'},\n",
       " {'address': '4045 Saint Helena Hwy, Calistoga, California, 94515, United States',\n",
       "  'adjusted_visit_length': 120.0,\n",
       "  'check_full_address': 1L,\n",
       "  'city': 'Calistoga',\n",
       "  'coord_lat': 38.5596251,\n",
       "  'coord_long': -122.5371653,\n",
       "  'icon_url': 'https://s3.amazonaws.com/travel-with-friends/icon_img_file/icon_7444.jpg',\n",
       "  'id': 7444L,\n",
       "  'img_url': 'https://s3.amazonaws.com/travel-with-friends/img_file/7444.jpg',\n",
       "  'name': 'Castello di Amorosa',\n",
       "  'num_reviews': 3712.0,\n",
       "  'poi_type': 'Landmark',\n",
       "  'ranking': 1L,\n",
       "  'review_score': 4.5,\n",
       "  'route': 1,\n",
       "  'state': 'California'}]"
      ]
     },
     "execution_count": 93,
     "metadata": {},
     "output_type": "execute_result"
    }
   ],
   "source": [
    "details"
   ]
  },
  {
   "cell_type": "code",
   "execution_count": 99,
   "metadata": {
    "collapsed": false
   },
   "outputs": [],
   "source": [
    "import pandas as pd\n"
   ]
  },
  {
   "cell_type": "code",
   "execution_count": 1,
   "metadata": {
    "collapsed": false
   },
   "outputs": [
    {
     "name": "stderr",
     "output_type": "stream",
     "text": [
      "/Users/zoesh/anaconda/lib/python2.7/site-packages/pandas/computation/__init__.py:19: UserWarning: The installed version of numexpr 2.4.4 is not supported in pandas and will be not be used\n",
      "\n",
      "  UserWarning)\n"
     ]
    }
   ],
   "source": [
    "import helpers\n",
    "import psycopg2\n",
    "import os\n",
    "import ast\n",
    "import json\n",
    "import numpy as np\n",
    "from sklearn.cluster import KMeans"
   ]
  },
  {
   "cell_type": "code",
   "execution_count": 2,
   "metadata": {
    "collapsed": true
   },
   "outputs": [],
   "source": [
    "import city_trip"
   ]
  },
  {
   "cell_type": "code",
   "execution_count": 3,
   "metadata": {
    "collapsed": true
   },
   "outputs": [],
   "source": [
    "city,state='Chicago','Illinois'"
   ]
  },
  {
   "cell_type": "code",
   "execution_count": 4,
   "metadata": {
    "collapsed": false
   },
   "outputs": [],
   "source": [
    "        trip_location_ids, full_trip_details =[],[]\n",
    "        #index, coord_lat, coord_long, adjusted_visit_length, ranking, review_score, num_reviews, city, state\n",
    "        city_poi_list_info = helpers.db_start_city_poi(city,state)"
   ]
  },
  {
   "cell_type": "code",
   "execution_count": 5,
   "metadata": {
    "collapsed": false
   },
   "outputs": [],
   "source": [
    "available_days = len(city_poi_list_info)/8\n",
    " "
   ]
  },
  {
   "cell_type": "code",
   "execution_count": 6,
   "metadata": {
    "collapsed": true
   },
   "outputs": [],
   "source": [
    "poi_coords_lst = np.array(city_poi_list_info)[:,1:3]\n",
    "# print \"poi coord : \", poi_coords_lst\n",
    "kmeans = KMeans(n_clusters=available_days).fit(poi_coords_lst)\n",
    "day_labels = kmeans.labels_\n",
    "day_order = helpers.kmeans_leabels_day_order(day_labels)\n",
    "# print day_labels, day_order\n",
    "not_visited_poi_lst = []"
   ]
  },
  {
   "cell_type": "code",
   "execution_count": 7,
   "metadata": {
    "collapsed": false
   },
   "outputs": [],
   "source": [
    "big_ix, small_ix, med_ix = helpers.create_big_med_small_lst(day_labels, np.array(city_poi_list_info), 0)"
   ]
  },
  {
   "cell_type": "code",
   "execution_count": 8,
   "metadata": {
    "collapsed": false
   },
   "outputs": [
    {
     "data": {
      "text/plain": [
       "array([[  5.10000000e+01,   1.00000000e+00,   5.00000000e+00,\n",
       "          1.69650000e+04],\n",
       "       [  6.00000000e+01,   1.20000000e+01,   4.50000000e+00,\n",
       "          1.13080000e+04],\n",
       "       [  6.10000000e+01,   1.30000000e+01,   4.50000000e+00,\n",
       "          9.92000000e+02],\n",
       "       [  6.20000000e+01,   1.40000000e+01,   5.00000000e+00,\n",
       "          5.96000000e+02],\n",
       "       [  6.30000000e+01,   1.50000000e+01,   4.50000000e+00,\n",
       "          2.19300000e+03],\n",
       "       [  6.80000000e+01,   2.10000000e+01,   4.50000000e+00,\n",
       "          7.77000000e+02],\n",
       "       [  7.00000000e+01,   2.30000000e+01,   4.50000000e+00,\n",
       "          6.05000000e+02],\n",
       "       [  7.50000000e+01,   2.90000000e+01,   4.00000000e+00,\n",
       "          6.70600000e+03]])"
      ]
     },
     "execution_count": 8,
     "metadata": {},
     "output_type": "execute_result"
    }
   ],
   "source": [
    "small_ix"
   ]
  },
  {
   "cell_type": "code",
   "execution_count": 9,
   "metadata": {
    "collapsed": false
   },
   "outputs": [
    {
     "data": {
      "text/plain": [
       "array([2, 0, 0, 0, 0, 1, 2, 0, 0, 0, 0, 0, 0, 0, 0, 1, 0, 0, 0, 0, 0, 0, 1,\n",
       "       0, 2, 2, 1], dtype=int32)"
      ]
     },
     "execution_count": 9,
     "metadata": {},
     "output_type": "execute_result"
    }
   ],
   "source": [
    "day_labels"
   ]
  },
  {
   "cell_type": "code",
   "execution_count": 10,
   "metadata": {
    "collapsed": false
   },
   "outputs": [
    {
     "data": {
      "text/plain": [
       "'60.0'"
      ]
     },
     "execution_count": 10,
     "metadata": {},
     "output_type": "execute_result"
    }
   ],
   "source": [
    "np.array(city_poi_list_info)[0,3]"
   ]
  },
  {
   "cell_type": "code",
   "execution_count": 11,
   "metadata": {
    "collapsed": true
   },
   "outputs": [],
   "source": [
    "\n",
    "def create_big_med_small_lst(day_labels, city_poi_list_info, v):\n",
    "    big_ix, med_ix, small_ix = [], [], []\n",
    "    city_poi_list_info = np.array(city_poi_list_info)\n",
    "    for ix, label in enumerate(day_labels):\n",
    "        if label == v:\n",
    "            time = city_poi_list_info[ix,3]\n",
    "            if time > 180 :\n",
    "                big_ix.append(ix)\n",
    "            elif time >= 120 :\n",
    "                med_ix.append(ix)\n",
    "            else:\n",
    "                small_ix.append(ix)\n",
    "    # print big_ix, med_ix, small_ix\n",
    "     \n",
    "    \n",
    "    city_poi_list_info =  np.array(city_poi_list_info[:,:-2].astype(np.float).tolist())\n",
    "    # print city_poi_list_info, type(city_poi_list_info)\n",
    "    big_ = helpers.sorted_events(city_poi_list_info, big_ix)\n",
    "    med_ = helpers.sorted_events(city_poi_list_info, med_ix)\n",
    "    small_ = helpers.sorted_events(city_poi_list_info, small_ix)\n",
    "    return big_, med_, small_\n"
   ]
  },
  {
   "cell_type": "code",
   "execution_count": 12,
   "metadata": {
    "collapsed": false
   },
   "outputs": [],
   "source": [
    "import helpers\n",
    "a,b,c =create_big_med_small_lst(day_labels, city_poi_list_info, 0)"
   ]
  },
  {
   "cell_type": "code",
   "execution_count": 14,
   "metadata": {
    "collapsed": false
   },
   "outputs": [],
   "source": [
    "big_ix, med_ix, small_ix = [], [], []\n",
    "city_poi_list_info = np.array(city_poi_list_info)\n",
    "for ix, label in enumerate(day_labels):\n",
    "    if label == 0:\n",
    "        time = float(city_poi_list_info[ix,3])\n",
    "#         print type(time)\n",
    "        if time > 180 :\n",
    "            big_ix.append(ix)\n",
    "        elif time >= 120 :\n",
    "            med_ix.append(ix)\n",
    "        else:\n",
    "            small_ix.append(ix)"
   ]
  },
  {
   "cell_type": "code",
   "execution_count": 15,
   "metadata": {
    "collapsed": false
   },
   "outputs": [
    {
     "data": {
      "text/plain": [
       "([1, 7], [3, 10, 11, 12, 13, 18, 20, 21], [2, 4, 8, 9, 14, 16, 17, 19, 23])"
      ]
     },
     "execution_count": 15,
     "metadata": {},
     "output_type": "execute_result"
    }
   ],
   "source": [
    "big_ix, med_ix,small_ix"
   ]
  },
  {
   "cell_type": "code",
   "execution_count": 18,
   "metadata": {
    "collapsed": false
   },
   "outputs": [
    {
     "ename": "NameError",
     "evalue": "name 'poi_table' is not defined",
     "output_type": "error",
     "traceback": [
      "\u001b[0;31m---------------------------------------------------------------------------\u001b[0m",
      "\u001b[0;31mNameError\u001b[0m                                 Traceback (most recent call last)",
      "\u001b[0;32m<ipython-input-18-afa8ab1db7e6>\u001b[0m in \u001b[0;36m<module>\u001b[0;34m()\u001b[0m\n\u001b[0;32m----> 1\u001b[0;31m \u001b[0mpoi_table\u001b[0m\u001b[0;34m\u001b[0m\u001b[0m\n\u001b[0m",
      "\u001b[0;31mNameError\u001b[0m: name 'poi_table' is not defined"
     ]
    }
   ],
   "source": [
    "poi_table"
   ]
  },
  {
   "cell_type": "code",
   "execution_count": 21,
   "metadata": {
    "collapsed": false
   },
   "outputs": [],
   "source": [
    "conn = psycopg2.connect(conn_str)\n",
    "cur = conn.cursor()\n",
    "#coord_long, coord_lat\n",
    "cur.execute(\"SELECT index, name FROM poi_detail_table order by index limit 10;\")\n",
    "a= cur.fetchall()"
   ]
  },
  {
   "cell_type": "code",
   "execution_count": 54,
   "metadata": {
    "collapsed": false
   },
   "outputs": [],
   "source": [
    "cur.execute(\"SELECT wiki_name, similarity(wiki_name, '{0}') FROM wiki2 WHERE wiki_name % '{0}' ORDER BY similarity(wiki_name, '{0}') DESC LIMIT 5;\".format(a[9][1]))"
   ]
  },
  {
   "cell_type": "code",
   "execution_count": 46,
   "metadata": {
    "collapsed": false
   },
   "outputs": [],
   "source": [
    "conn = psycopg2.connect(conn_str)\n",
    "cur = conn.cursor()\n",
    "cur.execute(\"select index, wiki_name from wiki2 where index = 100 limit 1;\")"
   ]
  },
  {
   "cell_type": "code",
   "execution_count": 55,
   "metadata": {
    "collapsed": false
   },
   "outputs": [],
   "source": [
    "b = cur.fetchall()"
   ]
  },
  {
   "cell_type": "code",
   "execution_count": 57,
   "metadata": {
    "collapsed": false
   },
   "outputs": [],
   "source": [
    "from difflib import SequenceMatcher"
   ]
  },
  {
   "cell_type": "code",
   "execution_count": 58,
   "metadata": {
    "collapsed": true
   },
   "outputs": [],
   "source": [
    "def similar(a, b):\n",
    "    return SequenceMatcher(None, a, b).ratio()"
   ]
  },
  {
   "cell_type": "code",
   "execution_count": 62,
   "metadata": {
    "collapsed": false
   },
   "outputs": [
    {
     "data": {
      "text/plain": [
       "0.9523809523809523"
      ]
     },
     "execution_count": 62,
     "metadata": {},
     "output_type": "execute_result"
    }
   ],
   "source": [
    "similar(\"empire state building\",\"Empire state building\")"
   ]
  },
  {
   "cell_type": "code",
   "execution_count": 60,
   "metadata": {
    "collapsed": false
   },
   "outputs": [
    {
     "data": {
      "text/plain": [
       "[('Empire state building', 1.0),\n",
       " ('Empire State building', 1.0),\n",
       " ('Empire State Building', 1.0),\n",
       " ('Empire State (building)', 1.0),\n",
       " ('The Empire State Building', 0.846154)]"
      ]
     },
     "execution_count": 60,
     "metadata": {},
     "output_type": "execute_result"
    }
   ],
   "source": [
    "b"
   ]
  },
  {
   "cell_type": "code",
   "execution_count": 63,
   "metadata": {
    "collapsed": true
   },
   "outputs": [],
   "source": [
    "cur.execute(\"SELECT * FROM poi_detail_table order by index limit 10;\")"
   ]
  },
  {
   "cell_type": "code",
   "execution_count": 64,
   "metadata": {
    "collapsed": true
   },
   "outputs": [],
   "source": [
    "c = cur.fetchall()"
   ]
  },
  {
   "cell_type": "code",
   "execution_count": 65,
   "metadata": {
    "collapsed": false
   },
   "outputs": [
    {
     "data": {
      "text/plain": [
       "[(0L,\n",
       "  '59th to 110th Street, New York City, New York, 10022, United States',\n",
       "  360.0,\n",
       "  'New York City',\n",
       "  40.7828647,\n",
       "  -73.9653551,\n",
       "  'United States',\n",
       "  'NEW YORK',\n",
       "  'For more than 150 years, visitors have flocked to Central Park%27s 843 green acres in the heart of Manhattan. Since 1980, the Park has been managed by the Central Park Conservancy, in partnership with the public. Central Park is open 6 am to 1 am daily. Visit the official website of Central Park to learn more about Park happenings and activities and to learn how you to help Central Park!',\n",
       "  'No',\n",
       "  \"{u'status': u'OK', u'results': [{u'geometry': {u'location': {u'lat': 40.7828647, u'lng': -73.9653551}, u'viewport': {u'northeast': {u'lat': 40.7842136802915, u'lng': -73.96400611970849}, u'southwest': {u'lat': 40.7815157197085, u'lng': -73.96670408029149}}, u'location_type': u'APPROXIMATE'}, u'address_components': [{u'long_name': u'Central Park', u'types': [u'establishment', u'park', u'point_of_interest'], u'short_name': u'Central Park'}, {u'long_name': u'Manhattan', u'types': [u'political', u'sublocality', u'sublocality_level_1'], u'short_name': u'Manhattan'}, {u'long_name': u'New York', u'types': [u'locality', u'political'], u'short_name': u'New York'}, {u'long_name': u'New York County', u'types': [u'administrative_area_level_2', u'political'], u'short_name': u'New York County'}, {u'long_name': u'New York', u'types': [u'administrative_area_level_1', u'political'], u'short_name': u'NY'}, {u'long_name': u'United States', u'types': [u'country', u'political'], u'short_name': u'US'}, {u'long_name': u'10024', u'types': [u'postal_code'], u'short_name': u'10024'}], u'place_id': u'ChIJ4zGFAZpYwokRGUGph3Mf37k', u'formatted_address': u'Central Park, New York, NY 10024, USA', u'types': [u'establishment', u'park', u'point_of_interest']}]}\",\n",
       "  'Central Park',\n",
       "  92215.0,\n",
       "  'Park',\n",
       "  '10022',\n",
       "  1L,\n",
       "  'More than 3 hours',\n",
       "  4.5,\n",
       "  'New York',\n",
       "  'NY',\n",
       "  '59th to 110th Street',\n",
       "  'Points of Interest & Landmarks, Nature & Parks, Sights & Landmarks, Scenic Walking Areas',\n",
       "  'http://www.tripadvisor.com/Attraction_Review-g60763-d105127-Reviews-Central_Park-New_York_City_New_York.html',\n",
       "  'https://s3.amazonaws.com/travel-with-friends/icon_img_file/icon_0.jpg',\n",
       "  1L,\n",
       "  'https://s3.amazonaws.com/travel-with-friends/img_file/0.jpg',\n",
       "  True,\n",
       "  '0101000020E6100000B7E1C160C87D52C0B0D815E934644440'),\n",
       " (1L,\n",
       "  '180 Greenwich St, New York City, New York, 10007, United States',\n",
       "  120.0,\n",
       "  'New York City',\n",
       "  40.7114147,\n",
       "  -74.0124786,\n",
       "  'United States',\n",
       "  'NEW YORK',\n",
       "  'The National September 11 Memorial & Museum is a place of remembrance honoring those who perished in the terrorist attacks of September 11, 2001 and February 26, 1993.\\n                  \\n\\n\\n\\n                   The 9/11 Memorial consists of two massive pools set within the original footprints of the Twin Towers with 30-foot waterfalls cascading down their sides. The nearly 3,000 names of the men, women, and children killed in the attacks are inscribed into bronze parapets surrounding the twin Memorial pools. The 9/11 Memorial is open daily from 7:30 a.m. - 9:00 p.m. and is free to the public.\\n                  \\n\\n\\n\\n                   The 9/11 Memorial Museum displays monumental artifacts linked to the events of 9/11, while presenting intimate stories of loss, compassion, reckoning and recovery that are central to telling the story of the 2001 and 1993 attacks and the aftermath. It also explores the global impact of 9/11 and its continuing significance. The 9/11 Memorial Museum is open Sun - Thu, 9:00 a.m. - 8:00 p.m., last entry at 6:00 p.m. and Fri and Sat, 9:00 a.m. - 9:00 p.m., last entry at 7:00 p.m. Tickets are required.\\n                  \\n\\n\\n\\n                   Open Daily.',\n",
       "  'No',\n",
       "  \"{u'status': u'OK', u'results': [{u'geometry': {u'location': {u'lat': 40.7114147, u'lng': -74.0124786}, u'viewport': {u'northeast': {u'lat': 40.71276368029149, u'lng': -74.01112961970848}, u'southwest': {u'lat': 40.7100657197085, u'lng': -74.01382758029149}}, u'location_type': u'ROOFTOP'}, u'address_components': [{u'long_name': u'180', u'types': [u'street_number'], u'short_name': u'180'}, {u'long_name': u'Greenwich Street', u'types': [u'route'], u'short_name': u'Greenwich St'}, {u'long_name': u'Manhattan', u'types': [u'political', u'sublocality', u'sublocality_level_1'], u'short_name': u'Manhattan'}, {u'long_name': u'New York', u'types': [u'locality', u'political'], u'short_name': u'New York'}, {u'long_name': u'New York County', u'types': [u'administrative_area_level_2', u'political'], u'short_name': u'New York County'}, {u'long_name': u'New York', u'types': [u'administrative_area_level_1', u'political'], u'short_name': u'NY'}, {u'long_name': u'United States', u'types': [u'country', u'political'], u'short_name': u'US'}, {u'long_name': u'10007', u'types': [u'postal_code'], u'short_name': u'10007'}], u'place_id': u'ChIJQ_TuZxlawokRm3eImxVFSbU', u'formatted_address': u'180 Greenwich St, New York, NY 10007, USA', u'types': [u'street_address']}]}\",\n",
       "  'The National 9/11 Memorial & Museum',\n",
       "  61712.0,\n",
       "  'Museum',\n",
       "  '10007-0089',\n",
       "  2L,\n",
       "  '1-2 hours',\n",
       "  4.5,\n",
       "  'New York',\n",
       "  'NY',\n",
       "  '180 Greenwich St',\n",
       "  'Specialty Museums, Points of Interest & Landmarks, Sights & Landmarks, Museums, Monuments & Statues, Historic Sites',\n",
       "  'http://www.tripadvisor.com/Attraction_Review-g60763-d1687489-Reviews-The_National_9_11_Memorial_Museum-New_York_City_New_York.html',\n",
       "  'https://s3.amazonaws.com/travel-with-friends/icon_img_file/icon_1.jpg',\n",
       "  1L,\n",
       "  'https://s3.amazonaws.com/travel-with-friends/img_file/1.jpg',\n",
       "  True,\n",
       "  '0101000020E610000097B90A73CC8052C064320BA30F5B4440'),\n",
       " (2L,\n",
       "  '1000 5th Ave, New York City, New York, 10028, United States',\n",
       "  180.0,\n",
       "  'New York City',\n",
       "  40.7791655,\n",
       "  -73.9629278,\n",
       "  'United States',\n",
       "  'NEW YORK',\n",
       "  'At New York City%27s most visited museum and attraction, you will experience over 5,000 years of art from around the world. The Met is for anyone as a source of inspiration, insight and understanding. You can learn, escape, play, dream, discover, connect.',\n",
       "  'Yes',\n",
       "  \"{u'status': u'OK', u'results': [{u'geometry': {u'location': {u'lat': 40.7791655, u'lng': -73.9629278}, u'viewport': {u'northeast': {u'lat': 40.78051448029149, u'lng': -73.9615788197085}, u'southwest': {u'lat': 40.77781651970849, u'lng': -73.96427678029151}}, u'location_type': u'ROOFTOP'}, u'address_components': [{u'long_name': u'1000', u'types': [u'street_number'], u'short_name': u'1000'}, {u'long_name': u'5th Avenue', u'types': [u'route'], u'short_name': u'5th Ave'}, {u'long_name': u'Manhattan', u'types': [u'political', u'sublocality', u'sublocality_level_1'], u'short_name': u'Manhattan'}, {u'long_name': u'New York', u'types': [u'locality', u'political'], u'short_name': u'New York'}, {u'long_name': u'New York County', u'types': [u'administrative_area_level_2', u'political'], u'short_name': u'New York County'}, {u'long_name': u'New York', u'types': [u'administrative_area_level_1', u'political'], u'short_name': u'NY'}, {u'long_name': u'United States', u'types': [u'country', u'political'], u'short_name': u'US'}, {u'long_name': u'10028', u'types': [u'postal_code'], u'short_name': u'10028'}], u'place_id': u'ChIJaZws-ZZYwokRPFdpz5_nqjA', u'formatted_address': u'1000 5th Ave, New York, NY 10028, USA', u'types': [u'street_address']}]}\",\n",
       "  'The Metropolitan Museum of Art',\n",
       "  40443.0,\n",
       "  'Museum',\n",
       "  '10028-0198',\n",
       "  3L,\n",
       "  '2-3 hours',\n",
       "  5.0,\n",
       "  'New York',\n",
       "  'NY',\n",
       "  '1000 5th Ave',\n",
       "  'Points of Interest & Landmarks, Art Museums, Museums, Sights & Landmarks',\n",
       "  'http://www.tripadvisor.com/Attraction_Review-g60763-d105125-Reviews-The_Metropolitan_Museum_of_Art-New_York_City_New_York.html',\n",
       "  'https://s3.amazonaws.com/travel-with-friends/icon_img_file/icon_2.jpg',\n",
       "  1L,\n",
       "  'https://s3.amazonaws.com/travel-with-friends/img_file/2.jpg',\n",
       "  True,\n",
       "  '0101000020E6100000305AEC9BA07D52C0F455F2B1BB634440'),\n",
       " (3L,\n",
       "  '30 Rockefeller Center, New York City, New York, United States',\n",
       "  30.0,\n",
       "  'New York City',\n",
       "  40.758823,\n",
       "  -73.979398,\n",
       "  'United States',\n",
       "  'NEW YORK',\n",
       "  'Top of the Rock Observation Deck, the newly opened, 3-tiered observation deck on the 67th, 69th and 70th floors of 30 Rockefeller Plaza, is New York City%27s most amazing attraction! The unforgettable experience includes a panoramic 360-degree, unobstructed view from the 70th floor observatory, 850 feet in the sky! Hours of Operation: 8:00 AM - Midnight, last elevator goes up at 11:00 PM.Main entrance is located on 50th Street between 5th & 6th Avenues.',\n",
       "  'Yes',\n",
       "  \"{u'status': u'OK', u'results': [{u'geometry': {u'location': {u'lat': 40.758823, u'lng': -73.979398}, u'viewport': {u'northeast': {u'lat': 40.7601719802915, u'lng': -73.9780490197085}, u'southwest': {u'lat': 40.7574740197085, u'lng': -73.98074698029151}}, u'location_type': u'ROOFTOP'}, u'address_components': [{u'long_name': u'30', u'types': [u'street_number'], u'short_name': u'30'}, {u'long_name': u'Rockefeller Center', u'types': [u'route'], u'short_name': u'Rockefeller Center'}, {u'long_name': u'Manhattan', u'types': [u'political', u'sublocality', u'sublocality_level_1'], u'short_name': u'Manhattan'}, {u'long_name': u'New York', u'types': [u'locality', u'political'], u'short_name': u'New York'}, {u'long_name': u'New York County', u'types': [u'administrative_area_level_2', u'political'], u'short_name': u'New York County'}, {u'long_name': u'New York', u'types': [u'administrative_area_level_1', u'political'], u'short_name': u'NY'}, {u'long_name': u'United States', u'types': [u'country', u'political'], u'short_name': u'US'}, {u'long_name': u'10020', u'types': [u'postal_code'], u'short_name': u'10020'}], u'place_id': u'ChIJ_yzH2v5YwokReqjgp5G2zL8', u'formatted_address': u'30 Rockefeller Center, New York, NY 10020, USA', u'types': [u'street_address']}]}\",\n",
       "  'Top of the Rock Observation Deck',\n",
       "  57358.0,\n",
       "  'Landmark',\n",
       "  None,\n",
       "  4L,\n",
       "  None,\n",
       "  4.5,\n",
       "  'New York',\n",
       "  'NY',\n",
       "  '30 Rockefeller Center',\n",
       "  'Observation Decks & Towers, Lookouts, Sights & Landmarks',\n",
       "  'http://www.tripadvisor.com/Attraction_Review-g60763-d587661-Reviews-Top_of_the_Rock_Observation_Deck-New_York_City_New_York.html',\n",
       "  'https://s3.amazonaws.com/travel-with-friends/icon_img_file/icon_3.jpg',\n",
       "  0L,\n",
       "  'https://s3.amazonaws.com/travel-with-friends/img_file/3.jpg',\n",
       "  True,\n",
       "  '0101000020E610000024F1F274AE7E52C0EF39B01C21614440'),\n",
       " (4L,\n",
       "  'New York City, New York, United States',\n",
       "  30.0,\n",
       "  'New York City',\n",
       "  40.7127837,\n",
       "  -74.0059413,\n",
       "  'United States',\n",
       "  'NEW YORK',\n",
       "  None,\n",
       "  'Unknown',\n",
       "  \"{u'status': u'OK', u'results': [{u'geometry': {u'location_type': u'APPROXIMATE', u'bounds': {u'northeast': {u'lat': 40.9175771, u'lng': -73.70027209999999}, u'southwest': {u'lat': 40.4773991, u'lng': -74.25908989999999}}, u'viewport': {u'northeast': {u'lat': 40.9152555, u'lng': -73.70027209999999}, u'southwest': {u'lat': 40.4960439, u'lng': -74.2557349}}, u'location': {u'lat': 40.7127837, u'lng': -74.0059413}}, u'address_components': [{u'long_name': u'New York', u'types': [u'locality', u'political'], u'short_name': u'New York'}, {u'long_name': u'New York', u'types': [u'administrative_area_level_1', u'political'], u'short_name': u'NY'}, {u'long_name': u'United States', u'types': [u'country', u'political'], u'short_name': u'US'}], u'place_id': u'ChIJOwg_06VPwokRYv534QaPC8g', u'formatted_address': u'New York, NY, USA', u'types': [u'locality', u'political']}]}\",\n",
       "  'Manhattan Skyline',\n",
       "  15918.0,\n",
       "  'Landmark',\n",
       "  None,\n",
       "  5L,\n",
       "  None,\n",
       "  5.0,\n",
       "  'New York',\n",
       "  'NY',\n",
       "  None,\n",
       "  'Points of Interest & Landmarks, Sights & Landmarks',\n",
       "  'http://www.tripadvisor.com/Attraction_Review-g60763-d267031-Reviews-Manhattan_Skyline-New_York_City_New_York.html',\n",
       "  'https://s3.amazonaws.com/travel-with-friends/icon_img_file/icon_4.jpg',\n",
       "  0L,\n",
       "  'https://s3.amazonaws.com/travel-with-friends/img_file/4.jpg',\n",
       "  True,\n",
       "  '0101000020E6100000864C9E57618052C09A4F0C7F3C5B4440'),\n",
       " (5L,\n",
       "  '89 E 42nd Street, New York City, New York, 10017, United States',\n",
       "  120.0,\n",
       "  'New York City',\n",
       "  40.7524961,\n",
       "  -73.9773022,\n",
       "  'United States',\n",
       "  'NEW YORK',\n",
       "  'Grand Central Terminal is the most extraordinary public space in New York City. Opened to the public in 1913, this historic train terminal is a world-famous landmark in Midtown. Its rich history is a story of immense wealth and great engineering. Grand Central is one of the busiest train stations in the world, with approximately 750,000 visitors every day. It is the home of Metro-North Railroad, a subway station, iconic restaurants, shops, and the world%27s most alluring Apple Store. Some of the highlights to see along your tour of Grand Central include the opal-faced clock, valued at $20 million, above the Information Booth, the Largest Tiffany Glass Clock in the World below the 48-foot, 1500-ton Transportation statue overlooking 42nd Street at Park Avenue, and the mystifying acoustics of the Whispering Gallery in front of the Oyster Bar and Restaurant. Audio and guided tours are available for those with a passion for history. More information regarding tours and ways to plan your visit can be found on the Grand Central Terminal website.',\n",
       "  'Unknown',\n",
       "  \"{u'status': u'OK', u'results': [{u'geometry': {u'location': {u'lat': 40.75249609999999, u'lng': -73.9773022}, u'viewport': {u'northeast': {u'lat': 40.7538450802915, u'lng': -73.97595321970849}, u'southwest': {u'lat': 40.7511471197085, u'lng': -73.9786511802915}}, u'location_type': u'ROOFTOP'}, u'address_components': [{u'long_name': u'89', u'types': [u'street_number'], u'short_name': u'89'}, {u'long_name': u'East 42nd Street', u'types': [u'route'], u'short_name': u'E 42nd St'}, {u'long_name': u'Manhattan', u'types': [u'political', u'sublocality', u'sublocality_level_1'], u'short_name': u'Manhattan'}, {u'long_name': u'New York', u'types': [u'locality', u'political'], u'short_name': u'New York'}, {u'long_name': u'New York County', u'types': [u'administrative_area_level_2', u'political'], u'short_name': u'New York County'}, {u'long_name': u'New York', u'types': [u'administrative_area_level_1', u'political'], u'short_name': u'NY'}, {u'long_name': u'United States', u'types': [u'country', u'political'], u'short_name': u'US'}, {u'long_name': u'10017', u'types': [u'postal_code'], u'short_name': u'10017'}], u'place_id': u'ChIJT3HzhgFZwokRdwTRrDavgh4', u'formatted_address': u'89 E 42nd St, New York, NY 10017, USA', u'types': [u'street_address']}]}\",\n",
       "  'Grand Central Terminal',\n",
       "  28478.0,\n",
       "  'Landmark',\n",
       "  '10017-5503',\n",
       "  7L,\n",
       "  '1-2 hours',\n",
       "  4.5,\n",
       "  'New York',\n",
       "  'NY',\n",
       "  '89 E 42nd Street',\n",
       "  'Architectural Buildings, Points of Interest & Landmarks, Sights & Landmarks',\n",
       "  'http://www.tripadvisor.com/Attraction_Review-g60763-d103371-Reviews-Grand_Central_Terminal-New_York_City_New_York.html',\n",
       "  'https://s3.amazonaws.com/travel-with-friends/icon_img_file/icon_5.jpg',\n",
       "  1L,\n",
       "  'https://s3.amazonaws.com/travel-with-friends/img_file/5.jpg',\n",
       "  True,\n",
       "  '0101000020E6100000C4D3861E8C7E52C00CEFCDCA51604440'),\n",
       " (6L,\n",
       "  'New York City, New York, 10014, United States',\n",
       "  180.0,\n",
       "  'New York City',\n",
       "  40.7366138,\n",
       "  -74.0094471,\n",
       "  'United States',\n",
       "  'NEW YORK',\n",
       "  'The High Line is an elevated railway transformed into a public park on Manhattan%27s West Side. The park features lush horticulture, artworks, seasonal food vendors, community programming, and unique views of the Hudson River and New York City skyline. The High Line runs between Gansevoort Street to West 34th Street, between 10th and 12th Avenues.\\n                  \\n\\n\\n\\n                   Friends of the High Line raises 98% of the High Line\\xe2\\x80\\x99s annual budget.\\n                  \\n\\n                   Owned by the City of New York, the High Line is a public park maintained, operated, and programmed by Friends of the High Line, in partnership with the New York City Department of Parks & Recreation.',\n",
       "  'No',\n",
       "  \"{u'status': u'OK', u'results': [{u'geometry': {u'location_type': u'APPROXIMATE', u'bounds': {u'northeast': {u'lat': 40.744127, u'lng': -73.9995551}, u'southwest': {u'lat': 40.726073, u'lng': -74.0211039}}, u'viewport': {u'northeast': {u'lat': 40.744127, u'lng': -73.9995551}, u'southwest': {u'lat': 40.726073, u'lng': -74.0211039}}, u'location': {u'lat': 40.7366138, u'lng': -74.0094471}}, u'address_components': [{u'long_name': u'10014', u'types': [u'postal_code'], u'short_name': u'10014'}, {u'long_name': u'Manhattan', u'types': [u'political', u'sublocality', u'sublocality_level_1'], u'short_name': u'Manhattan'}, {u'long_name': u'New York', u'types': [u'locality', u'political'], u'short_name': u'New York'}, {u'long_name': u'New York County', u'types': [u'administrative_area_level_2', u'political'], u'short_name': u'New York County'}, {u'long_name': u'New York', u'types': [u'administrative_area_level_1', u'political'], u'short_name': u'NY'}, {u'long_name': u'United States', u'types': [u'country', u'political'], u'short_name': u'US'}], u'place_id': u'ChIJPcvECI1ZwokRPJi-DLxJEug', u'formatted_address': u'New York, NY 10014, USA', u'types': [u'postal_code']}]}\",\n",
       "  'The High Line',\n",
       "  42015.0,\n",
       "  'Park',\n",
       "  '10014',\n",
       "  8L,\n",
       "  '2-3 hours',\n",
       "  4.5,\n",
       "  'New York',\n",
       "  'NY',\n",
       "  None,\n",
       "  'Scenic Walking Areas, Nature & Parks, Sights & Landmarks',\n",
       "  'http://www.tripadvisor.com/Attraction_Review-g60763-d519474-Reviews-The_High_Line-New_York_City_New_York.html',\n",
       "  'https://s3.amazonaws.com/travel-with-friends/icon_img_file/icon_6.jpg',\n",
       "  0L,\n",
       "  'https://s3.amazonaws.com/travel-with-friends/img_file/6.jpg',\n",
       "  True,\n",
       "  '0101000020E6100000B06202C89A8052C022646A5C495E4440'),\n",
       " (7L,\n",
       "  'New York City, New York, United States',\n",
       "  30.0,\n",
       "  'New York City',\n",
       "  40.7127837,\n",
       "  -74.0059413,\n",
       "  'United States',\n",
       "  'NEW YORK',\n",
       "  None,\n",
       "  'Unknown',\n",
       "  \"{u'status': u'OK', u'results': [{u'geometry': {u'location_type': u'APPROXIMATE', u'bounds': {u'northeast': {u'lat': 40.9175771, u'lng': -73.70027209999999}, u'southwest': {u'lat': 40.4773991, u'lng': -74.25908989999999}}, u'viewport': {u'northeast': {u'lat': 40.9152555, u'lng': -73.70027209999999}, u'southwest': {u'lat': 40.4960439, u'lng': -74.2557349}}, u'location': {u'lat': 40.7127837, u'lng': -74.0059413}}, u'address_components': [{u'long_name': u'New York', u'types': [u'locality', u'political'], u'short_name': u'New York'}, {u'long_name': u'New York', u'types': [u'administrative_area_level_1', u'political'], u'short_name': u'NY'}, {u'long_name': u'United States', u'types': [u'country', u'political'], u'short_name': u'US'}], u'place_id': u'ChIJOwg_06VPwokRYv534QaPC8g', u'formatted_address': u'New York, NY, USA', u'types': [u'locality', u'political']}]}\",\n",
       "  'Broadway',\n",
       "  22816.0,\n",
       "  'Landmark',\n",
       "  None,\n",
       "  9L,\n",
       "  None,\n",
       "  4.5,\n",
       "  'New York',\n",
       "  'NY',\n",
       "  None,\n",
       "  'Points of Interest & Landmarks, Sights & Landmarks',\n",
       "  'http://www.tripadvisor.com/Attraction_Review-g60763-d143361-Reviews-Broadway-New_York_City_New_York.html',\n",
       "  'https://s3.amazonaws.com/travel-with-friends/icon_img_file/icon_7.jpg',\n",
       "  0L,\n",
       "  'https://s3.amazonaws.com/travel-with-friends/img_file/7.jpg',\n",
       "  True,\n",
       "  '0101000020E6100000864C9E57618052C09A4F0C7F3C5B4440'),\n",
       " (8L,\n",
       "  '1 E. 70th St., New York City, New York, 10021, United States',\n",
       "  120.0,\n",
       "  'New York City',\n",
       "  40.7711807,\n",
       "  -73.9673501,\n",
       "  'United States',\n",
       "  'NEW YORK',\n",
       "  'Henry Frick once resided in this 18th-century French-style mansion; now its the home of his impressive art collection, which includes Titian, Vermeer, Rembrandt, El Greco, Goya, Whistler and more.',\n",
       "  'Unknown',\n",
       "  \"{u'status': u'OK', u'results': [{u'geometry': {u'location': {u'lat': 40.7711807, u'lng': -73.96735009999999}, u'viewport': {u'northeast': {u'lat': 40.7725296802915, u'lng': -73.9660011197085}, u'southwest': {u'lat': 40.7698317197085, u'lng': -73.9686990802915}}, u'location_type': u'ROOFTOP'}, u'address_components': [{u'long_name': u'1', u'types': [u'street_number'], u'short_name': u'1'}, {u'long_name': u'East 70th Street', u'types': [u'route'], u'short_name': u'E 70th St'}, {u'long_name': u'Manhattan', u'types': [u'political', u'sublocality', u'sublocality_level_1'], u'short_name': u'Manhattan'}, {u'long_name': u'New York', u'types': [u'locality', u'political'], u'short_name': u'New York'}, {u'long_name': u'New York County', u'types': [u'administrative_area_level_2', u'political'], u'short_name': u'New York County'}, {u'long_name': u'New York', u'types': [u'administrative_area_level_1', u'political'], u'short_name': u'NY'}, {u'long_name': u'United States', u'types': [u'country', u'political'], u'short_name': u'US'}, {u'long_name': u'10021', u'types': [u'postal_code'], u'short_name': u'10021'}, {u'long_name': u'4981', u'types': [u'postal_code_suffix'], u'short_name': u'4981'}], u'place_id': u'ChIJkz2i5uxYwokRMFfmHxiT5G4', u'formatted_address': u'1 E 70th St, New York, NY 10021, USA', u'types': [u'street_address']}]}\",\n",
       "  'Frick Collection',\n",
       "  7179.0,\n",
       "  'Museum',\n",
       "  '10021-4994',\n",
       "  10L,\n",
       "  None,\n",
       "  4.5,\n",
       "  'New York',\n",
       "  'NY',\n",
       "  '1 E. 70th St.',\n",
       "  'Art Museums, Museums',\n",
       "  'http://www.tripadvisor.com/Attraction_Review-g60763-d107466-Reviews-Frick_Collection-New_York_City_New_York.html',\n",
       "  'https://s3.amazonaws.com/travel-with-friends/icon_img_file/icon_8.jpg',\n",
       "  1L,\n",
       "  'https://s3.amazonaws.com/travel-with-friends/img_file/8.jpg',\n",
       "  True,\n",
       "  '0101000020E610000011D26410E97D52C038E7960CB6624440'),\n",
       " (9L,\n",
       "  '350 Fifth Avenue, New York City, New York, 10118, United States',\n",
       "  120.0,\n",
       "  'New York City',\n",
       "  40.7485411,\n",
       "  -73.9857629,\n",
       "  'United States',\n",
       "  'NEW YORK',\n",
       "  'The world-famous Empire State Building offers unobstructed panoramic views of New York City and beyond from 8 a.m. until 2 a.m. daily. Our 86th and 102nd floor Observation Decks offer the two highest vantage points in New York City. Soaring 1,454 feet above Midtown Manhattan from base to antenna, the Empire State Building is the World%27s Most Famous Office Building. Named America%27s favorite building in a poll conducted by the American Institute of Architects, the Empire State Building is one of New York City%27s top tourist destinations. On a clear day, you can see up to five states from our Observation Decks - New York, New Jersey, Pennsylvania, Connecticut and Massachusetts. Guests can enjoy our outdoor viewing area on our open-air 86th floor Observatory, or our indoor climate-controlled viewing areas on the 86th and 102nd floors. We recently launched our new Multimedia Experience as well, which guides visitors through the extraordinary exhibits and breathtaking views with additional depth on the building%27s history in eight languages - including English, Spanish, French, Italian, Mandarin, Portuguese, Japanese and Korean. The Empire State Building aims to provide entertainment for guests of all ages. Bringing children? Have their picture taken with King Kong himself on our 80th floor from Thursdays through Mondays (12 p.m. until 9 p.m.). Celebrating a first date or an anniversary? Enjoy romantic tunes from our saxophone player from 9 p.m. until midnight every Thursday through Saturday night. Tickets can be purchased through our website. Our celebrated tower lights are often illuminated to commemorate holidays, events and special causes. In the Fall of 2012, we upgraded our tower lighting system from floodlights to one-of-a-kind LED tower lights. The state-of-the-art system allows customized lighting capabilities from a palette of over 16 million colors! To watch some of our recent light shows, visit our YouTube page. Reigning as the world%27s tallest building from 1931 to 1970, the Empire State Building is known for its distinct Art Deco style. Construction of the renowned icon only took one year and 45 days, and logged more than 7 million man hours. This is the fastest construction to date for a project of its scale. Additionally, from classics like An Affair to Remember and Sleepless in Seattle to recent hits such as Oblivion and Elf, our place in pop culture has been solidified since our early days. In fact, over 200 movies and TV shows have featured the Empire State Building in them!',\n",
       "  'Yes',\n",
       "  \"{u'status': u'OK', u'results': [{u'geometry': {u'location': {u'lat': 40.7485411, u'lng': -73.9857629}, u'viewport': {u'northeast': {u'lat': 40.74989008029149, u'lng': -73.98441391970849}, u'southwest': {u'lat': 40.74719211970849, u'lng': -73.9871118802915}}, u'location_type': u'ROOFTOP'}, u'address_components': [{u'long_name': u'350', u'types': [u'street_number'], u'short_name': u'350'}, {u'long_name': u'5th Avenue', u'types': [u'route'], u'short_name': u'5th Ave'}, {u'long_name': u'Manhattan', u'types': [u'political', u'sublocality', u'sublocality_level_1'], u'short_name': u'Manhattan'}, {u'long_name': u'New York', u'types': [u'locality', u'political'], u'short_name': u'New York'}, {u'long_name': u'New York County', u'types': [u'administrative_area_level_2', u'political'], u'short_name': u'New York County'}, {u'long_name': u'New York', u'types': [u'administrative_area_level_1', u'political'], u'short_name': u'NY'}, {u'long_name': u'United States', u'types': [u'country', u'political'], u'short_name': u'US'}, {u'long_name': u'10118', u'types': [u'postal_code'], u'short_name': u'10118'}], u'place_id': u'ChIJn6wOs6lZwokRLKy1iqRcoKw', u'formatted_address': u'350 5th Ave, New York, NY 10118, USA', u'types': [u'street_address']}]}\",\n",
       "  'Empire State Building',\n",
       "  52446.0,\n",
       "  'Landmark',\n",
       "  '10118-0110',\n",
       "  11L,\n",
       "  '1-2 hours',\n",
       "  4.5,\n",
       "  'New York',\n",
       "  'NY',\n",
       "  '350 Fifth Avenue',\n",
       "  'Architectural Buildings, Observation Decks & Towers, Sights & Landmarks, Points of Interest & Landmarks',\n",
       "  'http://www.tripadvisor.com/Attraction_Review-g60763-d104365-Reviews-Empire_State_Building-New_York_City_New_York.html',\n",
       "  'https://s3.amazonaws.com/travel-with-friends/icon_img_file/icon_9.jpg',\n",
       "  1L,\n",
       "  'https://s3.amazonaws.com/travel-with-friends/img_file/9.jpg',\n",
       "  True,\n",
       "  '0101000020E61000000D4746BD167F52C01F1BDC31D05F4440')]"
      ]
     },
     "execution_count": 65,
     "metadata": {},
     "output_type": "execute_result"
    }
   ],
   "source": [
    "c"
   ]
  },
  {
   "cell_type": "code",
   "execution_count": null,
   "metadata": {
    "collapsed": true
   },
   "outputs": [],
   "source": []
  }
 ],
 "metadata": {
  "kernelspec": {
   "display_name": "Python 2",
   "language": "python",
   "name": "python2"
  },
  "language_info": {
   "codemirror_mode": {
    "name": "ipython",
    "version": 2
   },
   "file_extension": ".py",
   "mimetype": "text/x-python",
   "name": "python",
   "nbconvert_exporter": "python",
   "pygments_lexer": "ipython2",
   "version": "2.7.11"
  }
 },
 "nbformat": 4,
 "nbformat_minor": 0
}
