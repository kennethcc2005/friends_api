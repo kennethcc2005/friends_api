{
 "cells": [
  {
   "cell_type": "code",
   "execution_count": 32,
   "metadata": {
    "collapsed": false
   },
   "outputs": [],
   "source": [
    "import outside_helpers\n",
    "import numpy as np\n",
    "import outside_helpers\n",
    "import psycopg2\n",
    "import os\n",
    "import json\n",
    "import ast\n",
    "from sklearn.cluster import KMeans\n",
    "from django.utils import timezone\n",
    "import math\n",
    "current_path= os.getcwd()\n",
    "with open(current_path + '/api_key_list.config') as key_file:\n",
    "    api_key_list = json.load(key_file)\n",
    "api_key = api_key_list[\"distance_api_key_list\"]\n",
    "conn_str = api_key_list[\"conn_str\"]"
   ]
  },
  {
   "cell_type": "code",
   "execution_count": 82,
   "metadata": {
    "collapsed": true
   },
   "outputs": [],
   "source": [
    "def travel_outside_with_direction(origin_city, origin_state, target_direction, trip_len):\n",
    "    poi_info = []\n",
    "    conn = psycopg2.connect(conn_str)\n",
    "    cur = conn.cursor()\n",
    "    #coord_long, coord_lat\n",
    "    cur.execute(\"SELECT index, coord_lat, coord_long FROM all_cities_coords_table WHERE city ='%s' AND state = '%s';\" % (origin_city, origin_state))\n",
    "    id_, start_lat, start_long = cur.fetchone()\n",
    "\n",
    "    cur.execute(\"SELECT index, coord_lat, coord_long, adjusted_visit_length, ranking, review_score, num_reviews FROM poi_detail_table WHERE NOT (city = '%s' AND state = '%s') AND interesting = True AND ST_Distance_Sphere(geom, ST_MakePoint(%s,%s)) <= %s * 1609.34;\" % (origin_city, origin_state, start_long, start_lat, trip_len))\n",
    "    details = cur.fetchall()\n",
    "    conn.close()\n",
    "    for detail in details:\n",
    "        if check_direction(start_lat, start_long, detail[1], detail[2], target_direction):\n",
    "            poi_info.append(detail)\n",
    "    return id_, start_lat, start_long, np.array(poi_info)\n",
    "\n",
    "\n",
    "def check_direction(start_lat, start_long, outside_lat, outside_long, target_direction):\n",
    "    angle_dict={\"E\": range(45, 135), \"S\": range(135, 215), \"W\": range(215, 305), \"N\": range(0, 45) + range(305, 360)}\n",
    "    angle = calculate_initial_compass_bearing((start_lat, start_long), (outside_lat, outside_long))\n",
    "\n",
    "    if int(angle) in angle_dict[target_direction]:\n",
    "        return True\n",
    "    else:\n",
    "        return False\n",
    "\n",
    "def calculate_initial_compass_bearing(pointA, pointB):\n",
    "    \"\"\"\n",
    "    Calculates the bearing between two points.\n",
    "    The formulae used is the following:\n",
    "    theta = atan2(sin(delta(long)).cos(lat2),\n",
    "                  cos(lat1).sin(lat2) − sin(lat1).cos(lat2).cos(delta(long)))\n",
    "    :Parameters:\n",
    "      - `pointA: The tuple representing the latitude/longitude for the\n",
    "        first point. Latitude AND longitude must be in decimal degrees\n",
    "      - `pointB: The tuple representing the latitude/longitude for the\n",
    "        second point. Latitude AND longitude must be in decimal degrees\n",
    "    :Returns:\n",
    "      The bearing in degrees\n",
    "    :Returns Type:\n",
    "      float\n",
    "    \"\"\"\n",
    "    if (type(pointA) != tuple) or (type(pointB) != tuple):\n",
    "        raise TypeError(\"Only tuples are supported as arguments\")\n",
    "\n",
    "    lat1 = math.radians(pointA[0])\n",
    "    lat2 = math.radians(pointB[0])\n",
    "\n",
    "    diffLong = math.radians(pointB[1] - pointA[1])\n",
    "\n",
    "    x = math.sin(diffLong) * math.cos(lat2)\n",
    "    y = math.cos(lat1) * math.sin(lat2) - (math.sin(lat1) * math.cos(lat2) * math.cos(diffLong))\n",
    "\n",
    "    initial_bearing = math.atan2(x, y)\n",
    "\n",
    "    # Now we have the initial bearing but math.atan2 return values\n",
    "    # FROM -180° to + 180° which is not what we want for a compass bearing\n",
    "    # The solution is to normalize the initial bearing as shown below\n",
    "    initial_bearing = math.degrees(initial_bearing)\n",
    "    compass_bearing = (initial_bearing + 360) % 360\n",
    "\n",
    "    return compass_bearing\n",
    "\n",
    "def create_outside_event_id_list(big_, medium_, small_):\n",
    "    # print big_,medium_,small_\n",
    "    event_type = ''\n",
    "    if big_.shape[0] >= 1:\n",
    "        if (medium_.shape[0] < 2) or (big_[0,3] >= medium_[0, 3]):\n",
    "            if small_.shape[0] >= 6:\n",
    "                event_ids = list(np.concatenate((big_[:1, 0], small_[0:6, 0]), axis=0))\n",
    "            elif small_.shape[0] > 0:\n",
    "                event_ids = list(np.concatenate((big_[:1, 0], small_[:, 0]), axis=0))\n",
    "            else:\n",
    "                event_ids = list(np.array(sorted(big_[0:, :], key=lambda x: (-x[1], x[2])))[:, 0])\n",
    "            event_type = 'big'\n",
    "        else:\n",
    "            if small_.shape[0] >= 8:\n",
    "                event_ids = list(np.concatenate((medium_[0:2, 0], small_[0:8,0]), axis=0))\n",
    "            elif small_.shape[0] > 0:\n",
    "                event_ids = list(np.concatenate((medium_[0:2, 0], small_[:,0]), axis=0))\n",
    "            else:\n",
    "                event_ids = list(np.array(sorted(medium_[0:, :], key=lambda x: (-x[1], x[2])))[:, 0])\n",
    "            event_type = 'med'\n",
    "    elif medium_.shape[0] >= 2:\n",
    "        if small_.shape[0] >= 8:\n",
    "            event_ids = list(np.concatenate((medium_[0:2, 0], small_[0:8, 0]), axis=0))\n",
    "        elif small_.shape[0] > 0:\n",
    "            event_ids = list(np.concatenate((medium_[0:2, 0], small_[:, 0]), axis=0))\n",
    "        else:\n",
    "            event_ids = list(np.array(sorted(medium_[0:, :], key=lambda x: (-x[1], x[2])))[:, 0])\n",
    "        event_type = 'med'\n",
    "    else:\n",
    "        if small_.shape[0] >= 10:\n",
    "            if medium_.shape[0] == 0:\n",
    "                event_ids = list(np.array(sorted(small_[0:10, :], key=lambda x: (-x[1], x[2])))[:, 0])\n",
    "            else:\n",
    "                event_ids = list(np.array(sorted(np.vstack((medium_[:1, :], small_[0:10, :])), key=lambda x: (-x[1], x[2])))[:, 0])\n",
    "        elif small_.shape[0] > 0:\n",
    "            if medium_.shape[0] == 0:\n",
    "                event_ids = list(np.array(sorted(small_[0:, :], key=lambda x: (-x[1], x[2])))[:, 0])\n",
    "            else:\n",
    "                event_ids = list(np.array(sorted(np.vstack((medium_, small_)), key=lambda x: (-x[1], x[2])))[:, 0])\n",
    "        else:\n",
    "            event_ids = list(np.array(sorted(medium_[0:, :], key=lambda x: (x[1], -x[2])))[:, 0])\n",
    "        event_type = 'small'\n",
    "    return event_ids, event_type"
   ]
  },
  {
   "cell_type": "code",
   "execution_count": 89,
   "metadata": {
    "collapsed": true
   },
   "outputs": [],
   "source": [
    "def assign_theme(details):\n",
    "    theme_list_dict = {\n",
    "    \"family\": [\"Park\", \"Zoo\", \"Game\"],\n",
    "    \"lifestyle\": [\"Nightlife\", \"Shopping\", \"Theater\", \"Food\", \"Spa\", \"Casino\", \"Show\", \"ShoppingMall\"],\n",
    "    \"nature\": [\"StatePark\", \"NationalWildlifeRefuge\", \"NationalHistoricalPark\", \"NationalForest\", \"NationalMonument\", \"NationalMemorial\"],\n",
    "    \"cultural\": [\"Landmark\", \"Museum\", \"OutdoorActivities\", \"Library\", \"Stadium\"],\n",
    "    \"theme_park\": [\"ThemePark\"],\n",
    "    \"national_park\": [\"NationalPark\"],\n",
    "    \"other_list\": [\"Other\", \"VisotorCenter\", \"Transportation\", \"Tour\", \"Unuse_theater\", \"Unuse_transportation\"]\n",
    "    }\n",
    "\n",
    "    assign_dict = {\"family\" : 0,\"lifestyle\": 0,\"nature\": 0,\"cultural\": 0,\"theme_park\": 0,\"national_park\": 0,\"other_list\": 0}\n",
    "\n",
    "    assign_dict2 = {\"family\" : 0, \"lifestyle\": 0, \"nature\": 0, \"cultural\": 0, \"theme_park\": 0, \"national_park\": 0, \"other_list\": 0}\n",
    "\n",
    "    assign_dict3 = {\"family\" : -1, \"lifestyle\": -1, \"nature\": -1, \"cultural\": -1, \"theme_park\": -1, \"national_park\": -1, \"other_list\": -1}\n",
    "\n",
    "    assign_dict4 = {\"family\" : [], \"lifestyle\": [], \"nature\": [], \"cultural\": [], \"theme_park\": [], \"national_park\": [], \"other_list\": []}\n",
    "\n",
    "    #create a list for each poi\n",
    "    all_type = []\n",
    "    for i in details:\n",
    "        all_type.append([i[\"poi_type\"], i[\"adjusted_visit_length\"], i[\"num_reviews\"], i[\"ranking\"], i[\"review_score\"]])\n",
    "\n",
    "    for i in all_type:\n",
    "        for key, value in theme_list_dict.iteritems():\n",
    "            if i[0] in value: #locate the theme \n",
    "                assign_dict[key] += int(i[1]) #total time of theme\n",
    "                assign_dict2[key] += int(i[2]) #total # of review of theme\n",
    "                if assign_dict3[key] < 0:\n",
    "                    assign_dict3[key] = int(i[3])\n",
    "                else:\n",
    "                    assign_dict3[key] = min(assign_dict3[key], int(i[3]))\n",
    "\n",
    "                assign_dict4[key].append(float(i[4]))\n",
    "\n",
    "\n",
    "    assign_dict = sort_dict(assign_dict) #order descending  by time\n",
    "\n",
    "    # theme1 = assign_dict[0][1]\n",
    "    # theme2 = assign_dict[1][1]\n",
    "    # num_reviews = assign_dict2\n",
    "    # ranking = assign_dict3\n",
    "    if assign_dict[0][0] == assign_dict[1][0]: #check if the total time is same \n",
    "        if assign_dict2[assign_dict[0][1]] > assign_dict2[assign_dict[1][1]]:  #check number of review\n",
    "            return [assign_dict[0][1], assign_dict2[assign_dict[0][1]], assign_dict3[assign_dict[0][1]], avg_list(assign_dict4[assign_dict[0][1]])]\n",
    "        elif assign_dict2[assign_dict[0][1]] < assign_dict2[assign_dict[1][1]]:\n",
    "            return [assign_dict[1][1], assign_dict2[assign_dict[1][1]], assign_dict3[assign_dict[1][1]], avg_list(assign_dict4[assign_dict[1][1]])]\n",
    "        elif assign_dict3[assign_dict[0][1]] < assign_dict3[assign_dict[1][1]]: #check for ranking\n",
    "            return [assign_dict[0][1], assign_dict2[assign_dict[0][1]], assign_dict3[assign_dict[0][1]], avg_list(assign_dict4[assign_dict[0][1]])]\n",
    "        elif assign_dict3[assign_dict[0][1]] > assign_dict3[assign_dict[1][1]]:\n",
    "            return [assign_dict[1][1], assign_dict2[assign_dict[1][1]], assign_dict3[assign_dict[1][1]], avg_list(assign_dict4[assign_dict[1][1]])]\n",
    "\n",
    "    #return [theme, num of review, ranking, review_score]\n",
    "\n",
    "    return [assign_dict[0][1], assign_dict2[assign_dict[0][1]], assign_dict3[assign_dict[0][1]], avg_list(assign_dict4[assign_dict[0][1]])]\n",
    "\n",
    "def sort_dict(input_dict):\n",
    "    temp_dict = [(input_dict[key], key) for key in input_dict]\n",
    "    temp_dict.sort(reverse=True)\n",
    "    return temp_dict\n",
    "\n",
    "def avg_list(l):\n",
    "    #for finding avg of review socre\n",
    "    if len(l) != 0:\n",
    "        return sum(l) / len(l)\n",
    "    else:\n",
    "        return 0"
   ]
  },
  {
   "cell_type": "code",
   "execution_count": 75,
   "metadata": {
    "collapsed": true
   },
   "outputs": [],
   "source": [
    "def outside_trip_poi(origin_city, origin_state, target_direction='N', n_days =1, full_day=True, regular=True, debug=True, username_id=1):\n",
    "    outside_trip_id = '-'.join([str(origin_state.upper().replace(' ', '-')), str(origin_city.upper().replace(' ', '-')), target_direction,str(int(regular)), str(n_days)])\n",
    "    origin_state = outside_helpers.check_state(origin_state)\n",
    "\n",
    "    furthest_len = 100\n",
    "    city_id, coord_lat, coord_long, city_infos = travel_outside_with_direction(origin_city, origin_state, 'N', 100)\n",
    "#     if len(city_infos) <= 0:\n",
    "#         conn = psycopg2.connect(conn_str)\n",
    "#         cur = conn.cursor()\n",
    "#         cur.execute('SELECT MAX(index) from outside_trip_table;')\n",
    "#         new_index = cur.fetchone()[0] + 1\n",
    "#         cur.execute(\"INSERT into outside_trip_table(index, username_id, outside_trip_id, outside_route_ids, event_id_lst, origin_city, origin_state, target_direction, n_routes, regular, full_day, outside_trip_details) VALUES (%s, %s, %s, %s, %s, %s, %s, %s, %s, %s, %s, %s);\", (new_index, username_id, outside_trip_id, '[]', '[]', origin_city, origin_state, target_direction, 0, regular, full_day, '[]'))\n",
    "#         conn.commit()\n",
    "#         conn.close()\n",
    "#         print \"finish update None for %s, %s, direction %s into database\" % (origin_state, origin_city, target_direction)\n",
    "#         return outside_trip_id, [], []\n",
    "    poi_coords = city_infos[:, 1:3]\n",
    "    return city_id, coord_lat, coord_long, city_infos"
   ]
  },
  {
   "cell_type": "code",
   "execution_count": 46,
   "metadata": {
    "collapsed": true
   },
   "outputs": [],
   "source": [
    "origin_city, origin_state= 'San Francisco', 'California'"
   ]
  },
  {
   "cell_type": "code",
   "execution_count": 76,
   "metadata": {
    "collapsed": false
   },
   "outputs": [],
   "source": [
    "city_id, coord_lat, coord_long, city_infos = outside_trip_poi(origin_city, origin_state)"
   ]
  },
  {
   "cell_type": "code",
   "execution_count": 64,
   "metadata": {
    "collapsed": false
   },
   "outputs": [
    {
     "data": {
      "text/plain": [
       "142.28919860627178"
      ]
     },
     "execution_count": 64,
     "metadata": {},
     "output_type": "execute_result"
    }
   ],
   "source": [
    "import scipy.stats as scs\n",
    "scs.describe(poi_details[:,6]).mean"
   ]
  },
  {
   "cell_type": "code",
   "execution_count": 80,
   "metadata": {
    "collapsed": false
   },
   "outputs": [
    {
     "data": {
      "text/plain": [
       "array([ 927.       ,   38.5809738, -121.500259 ,  360.       ,\n",
       "         26.       ,    4.       ,   49.       ])"
      ]
     },
     "execution_count": 80,
     "metadata": {},
     "output_type": "execute_result"
    }
   ],
   "source": [
    "poi_details[0]"
   ]
  },
  {
   "cell_type": "code",
   "execution_count": 68,
   "metadata": {
    "collapsed": false
   },
   "outputs": [],
   "source": [
    "n_routes = sum(1 for t in poi_details[:, 3] if t >= 120) / 10\n",
    "n_routes = sum(1 for t in poi_details[:, 6] if t >= 142.3) / 5"
   ]
  },
  {
   "cell_type": "code",
   "execution_count": 69,
   "metadata": {
    "collapsed": false
   },
   "outputs": [],
   "source": [
    "kmeans = KMeans(n_clusters=n_routes).fit(poi_details[:,1:3])"
   ]
  },
  {
   "cell_type": "code",
   "execution_count": 71,
   "metadata": {
    "collapsed": false
   },
   "outputs": [],
   "source": [
    "route_labels = kmeans.labels_\n",
    "outside_route_ids_list, outside_trip_details, details_theme, event_id_list =[], [], [], []\n",
    "        "
   ]
  },
  {
   "cell_type": "code",
   "execution_count": 83,
   "metadata": {
    "collapsed": false
   },
   "outputs": [
    {
     "name": "stdout",
     "output_type": "stream",
     "text": [
      "0 [{'ranking': 14L, 'poi_type': 'Park', 'name': 'William Land Park', 'city': 'Sacramento', 'icon_url': 'https://s3.amazonaws.com/travel-with-friends/icon_img_file/icon_915.jpg', 'route': 0, 'img_url': 'https://s3.amazonaws.com/travel-with-friends/img_file/915.jpg', 'num_reviews': 125.0, 'state': 'California', 'coord_lat': 38.5361097, 'coord_long': -121.4985399, 'address': '1702 Sutterville Road, Sacramento, California, 95822, United States', 'check_full_address': 1L, 'adjusted_visit_length': 60.0, 'id': 915L, 'review_score': 4.5}, {'ranking': 9L, 'poi_type': 'Park', 'name': 'Sutter\\xe2\\x80\\x99s Fort State Historic Park', 'city': 'Sacramento', 'icon_url': 'https://s3.amazonaws.com/travel-with-friends/icon_img_file/icon_910.jpg', 'route': 0, 'img_url': 'https://s3.amazonaws.com/travel-with-friends/img_file/910.jpg', 'num_reviews': 401.0, 'state': 'California', 'coord_lat': 38.5723062, 'coord_long': -121.4711749, 'address': '2701 L St, Sacramento, California, 95816, United States', 'check_full_address': 1L, 'adjusted_visit_length': 60.0, 'id': 910L, 'review_score': 4.0}, {'ranking': 13L, 'poi_type': 'Park', 'name': 'American River Parkway', 'city': 'Sacramento', 'icon_url': 'https://s3.amazonaws.com/travel-with-friends/icon_img_file/icon_914.jpg', 'route': 0, 'img_url': 'https://s3.amazonaws.com/travel-with-friends/img_file/914.jpg', 'num_reviews': 128.0, 'state': 'California', 'coord_lat': 38.5927232, 'coord_long': -121.4599012, 'address': 'Discovery Park to Hazel Avenue, Sacramento, California, 95825, United States', 'check_full_address': 1L, 'adjusted_visit_length': 60.0, 'id': 914L, 'review_score': 4.5}, {'ranking': 5L, 'poi_type': 'Park', 'name': 'Capitol Park', 'city': 'Sacramento', 'icon_url': 'https://s3.amazonaws.com/travel-with-friends/icon_img_file/icon_906.jpg', 'route': 0, 'img_url': 'https://s3.amazonaws.com/travel-with-friends/img_file/906.jpg', 'num_reviews': 342.0, 'state': 'California', 'coord_lat': 38.5824933, 'coord_long': -121.4941738, 'address': 'Sacramento, California, 95814, United States', 'check_full_address': 0L, 'adjusted_visit_length': 60.0, 'id': 906L, 'review_score': 4.5}, {'ranking': 4L, 'poi_type': 'Park', 'name': 'American River Bicycle Trail', 'city': 'Sacramento', 'icon_url': 'https://s3.amazonaws.com/travel-with-friends/icon_img_file/icon_905.jpg', 'route': 0, 'img_url': 'https://s3.amazonaws.com/travel-with-friends/img_file/905.jpg', 'num_reviews': 450.0, 'state': 'California', 'coord_lat': 38.5815719, 'coord_long': -121.4943996, 'address': 'Sacramento, California, United States', 'check_full_address': 0L, 'adjusted_visit_length': 60.0, 'id': 905L, 'review_score': 4.5}, {'ranking': 7L, 'poi_type': 'Landmark', 'name': 'Cathedral of the Blessed Sacrament', 'city': 'Sacramento', 'icon_url': 'https://s3.amazonaws.com/travel-with-friends/icon_img_file/icon_908.jpg', 'route': 0, 'img_url': 'https://s3.amazonaws.com/travel-with-friends/img_file/908.jpg', 'num_reviews': 208.0, 'state': 'California', 'coord_lat': 38.57912, 'coord_long': -121.4924218, 'address': '1017 11th Street, Sacramento, California, 95814, United States', 'check_full_address': 1L, 'adjusted_visit_length': 30.0, 'id': 908L, 'review_score': 4.5}, {'ranking': 11L, 'poi_type': 'Landmark', 'name': 'Leland Stanford Mansion State Historic Park', 'city': 'Sacramento', 'icon_url': 'https://s3.amazonaws.com/travel-with-friends/icon_img_file/icon_912.jpg', 'route': 0, 'img_url': 'https://s3.amazonaws.com/travel-with-friends/img_file/912.jpg', 'num_reviews': 169.0, 'state': 'California', 'coord_lat': 38.5765725, 'coord_long': -121.4980548, 'address': \"cnr of 8th and 'N' Sts, Sacramento, California, United States\", 'check_full_address': 0L, 'adjusted_visit_length': 30.0, 'id': 912L, 'review_score': 4.5}]\n",
      "1 [{'ranking': 1L, 'poi_type': 'StatePark', 'name': 'Jack London State Historic Park', 'city': 'Glen Ellen', 'icon_url': 'https://s3.amazonaws.com/travel-with-friends/icon_img_file/icon_14468.jpg', 'route': 1, 'img_url': 'https://s3.amazonaws.com/travel-with-friends/img_file/14468.jpg', 'num_reviews': 345.0, 'state': 'California', 'coord_lat': 38.3566642, 'coord_long': -122.5409002, 'address': '2400 London Ranch Rd, Glen Ellen, California, 95442, United States', 'check_full_address': 1L, 'adjusted_visit_length': 60.0, 'id': 14468L, 'review_score': 4.5}, {'ranking': 1L, 'poi_type': 'Food', 'name': 'Pride Mountain Vineyards', 'city': 'St. Helena', 'icon_url': 'https://s3.amazonaws.com/travel-with-friends/icon_img_file/icon_7441.jpg', 'route': 1, 'img_url': 'https://s3.amazonaws.com/travel-with-friends/img_file/7441.jpg', 'num_reviews': 448.0, 'state': 'California', 'coord_lat': 38.5273618, 'coord_long': -122.5535175, 'address': '4026 Spring Mountain Rd, St. Helena, California, 94574, United States', 'check_full_address': 1L, 'adjusted_visit_length': 60.0, 'id': 7441L, 'review_score': 5.0}, {'ranking': 4L, 'poi_type': 'Food', 'name': 'Chateau Montelena', 'city': 'Calistoga', 'icon_url': 'https://s3.amazonaws.com/travel-with-friends/icon_img_file/icon_7457.jpg', 'route': 1, 'img_url': 'https://s3.amazonaws.com/travel-with-friends/img_file/7457.jpg', 'num_reviews': 464.0, 'state': 'California', 'coord_lat': 38.6034975, 'coord_long': -122.5973582, 'address': '1429 Tubbs Ln, Calistoga, California, 94515, United States', 'check_full_address': 1L, 'adjusted_visit_length': 60.0, 'id': 7457L, 'review_score': 4.5}, {'ranking': 3L, 'poi_type': 'Landmark', 'name': 'Sterling Vineyards', 'city': 'Calistoga', 'icon_url': 'https://s3.amazonaws.com/travel-with-friends/icon_img_file/icon_7452.jpg', 'route': 1, 'img_url': 'https://s3.amazonaws.com/travel-with-friends/img_file/7452.jpg', 'num_reviews': 1244.0, 'state': 'California', 'coord_lat': 38.5672626, 'coord_long': -122.5549095, 'address': '1111 Dunaweal Lane between Highway 29 and Silverado Trail, Calistoga, California, United States', 'check_full_address': 0L, 'adjusted_visit_length': 30.0, 'id': 7452L, 'review_score': 4.0}, {'ranking': 1L, 'poi_type': 'Landmark', 'name': 'Castello di Amorosa', 'city': 'Calistoga', 'icon_url': 'https://s3.amazonaws.com/travel-with-friends/icon_img_file/icon_7444.jpg', 'route': 1, 'img_url': 'https://s3.amazonaws.com/travel-with-friends/img_file/7444.jpg', 'num_reviews': 3712.0, 'state': 'California', 'coord_lat': 38.5596251, 'coord_long': -122.5371653, 'address': '4045 Saint Helena Hwy, Calistoga, California, 94515, United States', 'check_full_address': 1L, 'adjusted_visit_length': 120.0, 'id': 7444L, 'review_score': 4.5}]\n"
     ]
    }
   ],
   "source": [
    "n_routes = 2\n",
    "city_infos = poi_details\n",
    "for i in range(n_routes):\n",
    "    current_events, big_ix, med_ix, small_ix = [], [], [], []\n",
    "    for ix, label in enumerate(route_labels):\n",
    "        if label == i:\n",
    "            time = city_infos[ix, 3]\n",
    "            event_ix = city_infos[ix, 0]\n",
    "            current_events.append(event_ix)\n",
    "            if time > 180:\n",
    "                big_ix.append(ix)\n",
    "            elif time >= 120:\n",
    "                med_ix.append(ix)\n",
    "            else:\n",
    "                small_ix.append(ix)\n",
    "\n",
    "    big_ = outside_helpers.sorted_outside_events(city_infos, big_ix)\n",
    "    med_ = outside_helpers.sorted_outside_events(city_infos, med_ix)\n",
    "    small_ = outside_helpers.sorted_outside_events(city_infos, small_ix)\n",
    "#     print 'big, med, sm', big_, med_\n",
    "    event_ids, event_type = create_outside_event_id_list(big_, med_, small_)\n",
    "    event_ids, event_type = outside_helpers.db_outside_event_cloest_distance(coord_lat, coord_long, event_ids=event_ids, event_type=event_type)\n",
    "    event_ids, google_ids, name_list, driving_time_list, walking_time_list = outside_helpers.db_outside_google_driving_walking_time(city_id, coord_lat, coord_long, event_ids, event_type, origin_city=origin_city, origin_state=origin_state)\n",
    "    event_ids, driving_time_list, walking_time_list, total_time_spent = outside_helpers.db_remove_outside_extra_events(event_ids, driving_time_list, walking_time_list)\n",
    "#     outside_route_id = outside_trip_id + '-' + str(i)\n",
    "\n",
    "#     if outside_helpers.check_outside_route_id(outside_route_id):\n",
    "#         conn = psycopg2.connect(conn_str)\n",
    "#         cur = conn.cursor()\n",
    "#         cur.execute(\"DELETE FROM outside_route_table WHERE outside_route_id = '%s';\" % (outside_route_id))\n",
    "#         conn.commit()\n",
    "#         conn.close()\n",
    "    details = outside_helpers.db_outside_route_trip_details(event_ids, i)\n",
    "    print i, details"
   ]
  },
  {
   "cell_type": "code",
   "execution_count": 92,
   "metadata": {
    "collapsed": false
   },
   "outputs": [
    {
     "name": "stdout",
     "output_type": "stream",
     "text": [
      "StatePark\n",
      "Food\n",
      "Food\n",
      "Landmark\n",
      "Landmark\n"
     ]
    }
   ],
   "source": [
    "for detail in details:\n",
    "    print detail['poi_type']"
   ]
  },
  {
   "cell_type": "code",
   "execution_count": 93,
   "metadata": {
    "collapsed": false
   },
   "outputs": [
    {
     "data": {
      "text/plain": [
       "[{'address': '2400 London Ranch Rd, Glen Ellen, California, 95442, United States',\n",
       "  'adjusted_visit_length': 60.0,\n",
       "  'check_full_address': 1L,\n",
       "  'city': 'Glen Ellen',\n",
       "  'coord_lat': 38.3566642,\n",
       "  'coord_long': -122.5409002,\n",
       "  'icon_url': 'https://s3.amazonaws.com/travel-with-friends/icon_img_file/icon_14468.jpg',\n",
       "  'id': 14468L,\n",
       "  'img_url': 'https://s3.amazonaws.com/travel-with-friends/img_file/14468.jpg',\n",
       "  'name': 'Jack London State Historic Park',\n",
       "  'num_reviews': 345.0,\n",
       "  'poi_type': 'StatePark',\n",
       "  'ranking': 1L,\n",
       "  'review_score': 4.5,\n",
       "  'route': 1,\n",
       "  'state': 'California'},\n",
       " {'address': '4026 Spring Mountain Rd, St. Helena, California, 94574, United States',\n",
       "  'adjusted_visit_length': 60.0,\n",
       "  'check_full_address': 1L,\n",
       "  'city': 'St. Helena',\n",
       "  'coord_lat': 38.5273618,\n",
       "  'coord_long': -122.5535175,\n",
       "  'icon_url': 'https://s3.amazonaws.com/travel-with-friends/icon_img_file/icon_7441.jpg',\n",
       "  'id': 7441L,\n",
       "  'img_url': 'https://s3.amazonaws.com/travel-with-friends/img_file/7441.jpg',\n",
       "  'name': 'Pride Mountain Vineyards',\n",
       "  'num_reviews': 448.0,\n",
       "  'poi_type': 'Food',\n",
       "  'ranking': 1L,\n",
       "  'review_score': 5.0,\n",
       "  'route': 1,\n",
       "  'state': 'California'},\n",
       " {'address': '1429 Tubbs Ln, Calistoga, California, 94515, United States',\n",
       "  'adjusted_visit_length': 60.0,\n",
       "  'check_full_address': 1L,\n",
       "  'city': 'Calistoga',\n",
       "  'coord_lat': 38.6034975,\n",
       "  'coord_long': -122.5973582,\n",
       "  'icon_url': 'https://s3.amazonaws.com/travel-with-friends/icon_img_file/icon_7457.jpg',\n",
       "  'id': 7457L,\n",
       "  'img_url': 'https://s3.amazonaws.com/travel-with-friends/img_file/7457.jpg',\n",
       "  'name': 'Chateau Montelena',\n",
       "  'num_reviews': 464.0,\n",
       "  'poi_type': 'Food',\n",
       "  'ranking': 4L,\n",
       "  'review_score': 4.5,\n",
       "  'route': 1,\n",
       "  'state': 'California'},\n",
       " {'address': '1111 Dunaweal Lane between Highway 29 and Silverado Trail, Calistoga, California, United States',\n",
       "  'adjusted_visit_length': 30.0,\n",
       "  'check_full_address': 0L,\n",
       "  'city': 'Calistoga',\n",
       "  'coord_lat': 38.5672626,\n",
       "  'coord_long': -122.5549095,\n",
       "  'icon_url': 'https://s3.amazonaws.com/travel-with-friends/icon_img_file/icon_7452.jpg',\n",
       "  'id': 7452L,\n",
       "  'img_url': 'https://s3.amazonaws.com/travel-with-friends/img_file/7452.jpg',\n",
       "  'name': 'Sterling Vineyards',\n",
       "  'num_reviews': 1244.0,\n",
       "  'poi_type': 'Landmark',\n",
       "  'ranking': 3L,\n",
       "  'review_score': 4.0,\n",
       "  'route': 1,\n",
       "  'state': 'California'},\n",
       " {'address': '4045 Saint Helena Hwy, Calistoga, California, 94515, United States',\n",
       "  'adjusted_visit_length': 120.0,\n",
       "  'check_full_address': 1L,\n",
       "  'city': 'Calistoga',\n",
       "  'coord_lat': 38.5596251,\n",
       "  'coord_long': -122.5371653,\n",
       "  'icon_url': 'https://s3.amazonaws.com/travel-with-friends/icon_img_file/icon_7444.jpg',\n",
       "  'id': 7444L,\n",
       "  'img_url': 'https://s3.amazonaws.com/travel-with-friends/img_file/7444.jpg',\n",
       "  'name': 'Castello di Amorosa',\n",
       "  'num_reviews': 3712.0,\n",
       "  'poi_type': 'Landmark',\n",
       "  'ranking': 1L,\n",
       "  'review_score': 4.5,\n",
       "  'route': 1,\n",
       "  'state': 'California'}]"
      ]
     },
     "execution_count": 93,
     "metadata": {},
     "output_type": "execute_result"
    }
   ],
   "source": [
    "details"
   ]
  },
  {
   "cell_type": "code",
   "execution_count": null,
   "metadata": {
    "collapsed": true
   },
   "outputs": [],
   "source": []
  }
 ],
 "metadata": {
  "kernelspec": {
   "display_name": "Python 2",
   "language": "python",
   "name": "python2"
  },
  "language_info": {
   "codemirror_mode": {
    "name": "ipython",
    "version": 2
   },
   "file_extension": ".py",
   "mimetype": "text/x-python",
   "name": "python",
   "nbconvert_exporter": "python",
   "pygments_lexer": "ipython2",
   "version": "2.7.11"
  }
 },
 "nbformat": 4,
 "nbformat_minor": 0
}
